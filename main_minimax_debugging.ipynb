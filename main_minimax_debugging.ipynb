{
 "cells": [
  {
   "cell_type": "code",
   "execution_count": 1,
   "metadata": {
    "ExecuteTime": {
     "end_time": "2023-11-07T20:21:37.188521Z",
     "start_time": "2023-11-07T20:21:28.626293Z"
    }
   },
   "outputs": [
    {
     "name": "stderr",
     "output_type": "stream",
     "text": [
      "C:\\Users\\lpott\\anaconda3\\envs\\survival\\lib\\site-packages\\tqdm\\auto.py:21: TqdmWarning: IProgress not found. Please update jupyter and ipywidgets. See https://ipywidgets.readthedocs.io/en/stable/user_install.html\n",
      "  from .autonotebook import tqdm as notebook_tqdm\n",
      "C:\\Users\\lpott\\anaconda3\\envs\\survival\\lib\\site-packages\\torch\\utils\\cpp_extension.py:25: DeprecationWarning: pkg_resources is deprecated as an API. See https://setuptools.pypa.io/en/latest/pkg_resources.html\n",
      "  from pkg_resources import packaging  # type: ignore[attr-defined]\n"
     ]
    }
   ],
   "source": [
    "from src.models import Exponential_Model\n",
    "from src.criterion import right_censored,RightCensorWrapper,RankingWrapper\n",
    "from src.load_data import load_datasets,load_dataframe\n",
    "from src.utils import train_robust,lower_bound\n",
    "from src.visualizations import visualize_population_curves_attacked,visualize_individual_curves_attacked,visualize_individual_curves_changes\n",
    "from src.metrics import concordance\n",
    "\n",
    "from torch.optim import Adam\n",
    "import torch\n",
    "from torch.utils.data import DataLoader\n",
    "\n",
    "import matplotlib.pyplot as plt\n",
    "import seaborn as sns\n",
    "\n",
    "from lifelines import KaplanMeierFitter\n",
    "from lifelines.utils import concordance_index\n",
    "from lifelines import CoxPHFitter\n",
    "\n",
    "from auto_LiRPA import BoundedModule, BoundedTensor\n",
    "\n",
    "from tqdm import tqdm\n",
    "import pandas as pd\n",
    "import numpy as np\n",
    "from copy import deepcopy"
   ]
  },
  {
   "cell_type": "code",
   "execution_count": 2,
   "metadata": {},
   "outputs": [],
   "source": [
    "class ARGS(object):\n",
    "    def __init__(self):\n",
    "        pass"
   ]
  },
  {
   "cell_type": "code",
   "execution_count": 3,
   "metadata": {},
   "outputs": [],
   "source": [
    "args = ARGS()\n",
    "args.verify=False\n",
    "args.device=\"cpu\"\n",
    "\n",
    "args.seed = 123\n",
    "\n",
    "args.eps=0.5\n",
    "args.norm=np.inf\n",
    "args.bound_type = \"CROWN-IBP\"\n",
    "args.num_epochs=10\n",
    "args.lr = 1e-3\n",
    "args.batch_size= 512\n",
    "args.scheduler_name = \"SmoothedScheduler\"\n",
    "args.scheduler_opts = \"start=5,length=20\"\n",
    "args.hidden_dims = [15,15]\n",
    "args.save_model = \"\"\n",
    "args.dataset = \"Dialysis\"\n"
   ]
  },
  {
   "cell_type": "code",
   "execution_count": 4,
   "metadata": {
    "ExecuteTime": {
     "end_time": "2023-11-07T20:21:37.272860Z",
     "start_time": "2023-11-07T20:21:37.188521Z"
    },
    "collapsed": false,
    "jupyter": {
     "outputs_hidden": false
    }
   },
   "outputs": [],
   "source": [
    "# GOOD DATASETS\n",
    "# 1. TRACE\n",
    "# 2. divorce \n",
    "# 3. Dialysis\n",
    "dataset_train,dataset_test = load_datasets(args.dataset,test_size=0.2)"
   ]
  },
  {
   "cell_type": "code",
   "execution_count": 5,
   "metadata": {
    "ExecuteTime": {
     "end_time": "2023-11-07T20:21:37.295094Z",
     "start_time": "2023-11-07T20:21:37.272860Z"
    },
    "collapsed": false,
    "jupyter": {
     "outputs_hidden": false
    }
   },
   "outputs": [],
   "source": [
    "input_dims = dataset_train.tensors[0].shape[1]\n",
    "output_dim = 1"
   ]
  },
  {
   "cell_type": "code",
   "execution_count": 6,
   "metadata": {
    "ExecuteTime": {
     "end_time": "2023-11-07T20:21:37.321189Z",
     "start_time": "2023-11-07T20:21:37.297057Z"
    },
    "collapsed": false,
    "jupyter": {
     "outputs_hidden": false
    }
   },
   "outputs": [
    {
     "data": {
      "text/plain": [
       "torch.Size([5444, 74])"
      ]
     },
     "execution_count": 6,
     "metadata": {},
     "output_type": "execute_result"
    }
   ],
   "source": [
    "dataloader_train = DataLoader(dataset_train,batch_size=args.batch_size,shuffle=True)\n",
    "dataloader_test = DataLoader(dataset_test,batch_size=args.batch_size,shuffle=False)\n",
    "\n",
    "dataloader_train.mean = dataloader_test.mean = dataset_train.mean\n",
    "dataloader_train.std = dataloader_test.std = dataset_train.std\n",
    "\n",
    "\n",
    "dataset_train.tensors[0].shape"
   ]
  },
  {
   "cell_type": "code",
   "execution_count": 7,
   "metadata": {},
   "outputs": [],
   "source": [
    "import torch.nn as nn"
   ]
  },
  {
   "cell_type": "code",
   "execution_count": 8,
   "metadata": {},
   "outputs": [],
   "source": [
    "X_train,T_train,E_train = dataloader_train.dataset.tensors"
   ]
  },
  {
   "cell_type": "code",
   "execution_count": 9,
   "metadata": {},
   "outputs": [],
   "source": [
    "class RankingWrapper(nn.Module):\n",
    "    def __init__(self,model):\n",
    "        super(RankingWrapper,self).__init__()\n",
    "        self.model = model\n",
    "\n",
    "    def forward(self,x,t,e):\n",
    "        R = self.model.failure_cdf(x, t)\n",
    "\n",
    "        one_vector = torch.ones_like(t)\n",
    "        \n",
    "        Rii = 1.0 - torch.exp(-self.model(x)*t)\n",
    "        # print(Rii.shape)\n",
    "\n",
    "        #\n",
    "        R_ = one_vector @ torch.transpose(Rii,1,0) #torch.reshape(torch.diag(R),(1,-1)) #.view(1, -1)\n",
    "        # R_{ij} = r_{i}{T_{j}}\n",
    "        #\n",
    "        L = R_ - R\n",
    "        # # R_{ij} = r_{j}(T_{j}) - r_{i}(T_{j})\n",
    "        \n",
    "        G = torch.transpose(L,1,0)\n",
    "        # #\n",
    "        T =  1.0 - torch.heaviside(t - torch.transpose(t,1,0),torch.tensor([1.0]))\n",
    "        # # T_{ij}=1 if t_i < t_j  and T_{ij}=0 if t_i >= t_j\n",
    "        \n",
    "        T = T * e\n",
    "        #  only remains T_{ij}=1 when event occured for subject i\n",
    "        #\n",
    "        sigma1 = 1.0\n",
    "        #\n",
    "        pairwise_ranking_loss = T * torch.exp(-G / sigma1)\n",
    "\n",
    "        \n",
    "        # pairwise_ranking_loss.mean(axis=1, keepdim=True)\n",
    "        return torch.mean(pairwise_ranking_loss, axis=1,keepdims=True)#.view(-1, 1)"
   ]
  },
  {
   "cell_type": "code",
   "execution_count": 10,
   "metadata": {},
   "outputs": [],
   "source": [
    "# remain = (T_train < T_train.T) * E_train"
   ]
  },
  {
   "cell_type": "code",
   "execution_count": 11,
   "metadata": {},
   "outputs": [],
   "source": [
    "Xb = X_train[:25]\n",
    "Tb = T_train[:25]\n",
    "Eb = E_train[:25]"
   ]
  },
  {
   "cell_type": "code",
   "execution_count": 12,
   "metadata": {},
   "outputs": [
    {
     "name": "stderr",
     "output_type": "stream",
     "text": [
      "C:\\Users\\lpott\\AppData\\Local\\Temp\\ipykernel_34104\\3218600458.py:23: TracerWarning: torch.tensor results are registered as constants in the trace. You can safely ignore this warning if you use this function to create tensors out of constant variables that would be the same every time you call this function. In any other case, this might cause the trace to be incorrect.\n",
      "  T =  1.0 - torch.heaviside(t - torch.transpose(t,1,0),torch.tensor([1.0]))\n"
     ]
    }
   ],
   "source": [
    "clf_robust = Exponential_Model(input_dim=input_dims,hidden_layers=args.hidden_dims)\n",
    "clf_fragile = Exponential_Model(input_dim=input_dims,hidden_layers=args.hidden_dims)\n",
    "clf_fragile.load_state_dict(deepcopy(clf_robust.state_dict()))\n",
    "\n",
    "\n",
    "# # model = BoundedModule(clf, X_train)\n",
    "model_robust_wrap = BoundedModule(RankingWrapper(clf_robust),(Xb,Tb,Eb))\n",
    "model_fragile_wrap = BoundedModule(RankingWrapper(clf_fragile),(Xb,Tb,Eb))"
   ]
  },
  {
   "cell_type": "code",
   "execution_count": 13,
   "metadata": {},
   "outputs": [
    {
     "data": {
      "text/plain": [
       "tensor([[0.0000],\n",
       "        [0.5605],\n",
       "        [0.0000],\n",
       "        [0.8953],\n",
       "        [0.0000],\n",
       "        [0.0000],\n",
       "        [0.0000],\n",
       "        [0.0000],\n",
       "        [0.0000],\n",
       "        [0.0000],\n",
       "        [0.0000],\n",
       "        [0.0000],\n",
       "        [0.0000],\n",
       "        [0.0000],\n",
       "        [0.0000],\n",
       "        [0.0000],\n",
       "        [0.0000],\n",
       "        [0.6611],\n",
       "        [0.0000],\n",
       "        [0.5427],\n",
       "        [0.0000],\n",
       "        [0.0000],\n",
       "        [0.0000],\n",
       "        [0.2000],\n",
       "        [0.0000]], grad_fn=<MeanBackward1>)"
      ]
     },
     "execution_count": 13,
     "metadata": {},
     "output_type": "execute_result"
    }
   ],
   "source": [
    "model_robust_wrap(Xb,Tb,Eb)"
   ]
  },
  {
   "cell_type": "code",
   "execution_count": 14,
   "metadata": {
    "scrolled": true
   },
   "outputs": [
    {
     "ename": "RuntimeError",
     "evalue": "number of dims don't match in permute",
     "output_type": "error",
     "traceback": [
      "\u001b[1;31m---------------------------------------------------------------------------\u001b[0m",
      "\u001b[1;31mRuntimeError\u001b[0m                              Traceback (most recent call last)",
      "Cell \u001b[1;32mIn[14], line 11\u001b[0m\n\u001b[0;32m      7\u001b[0m my_input \u001b[38;5;241m=\u001b[39m BoundedTensor(torch\u001b[38;5;241m.\u001b[39mTensor(Xb), ptb)\n\u001b[0;32m      8\u001b[0m \u001b[38;5;66;03m# Regular forward propagation using BoundedTensor works as usual.\u001b[39;00m\n\u001b[0;32m      9\u001b[0m \u001b[38;5;66;03m# prediction = model(my_input,torch.rand_like(T_train),torch.rand_like(E_train))\u001b[39;00m\n\u001b[0;32m     10\u001b[0m \u001b[38;5;66;03m# Compute LiRPA bounds using CROWN\u001b[39;00m\n\u001b[1;32m---> 11\u001b[0m lb, ub \u001b[38;5;241m=\u001b[39m \u001b[43mmodel_robust_wrap\u001b[49m\u001b[38;5;241;43m.\u001b[39;49m\u001b[43mcompute_bounds\u001b[49m\u001b[43m(\u001b[49m\u001b[43mx\u001b[49m\u001b[38;5;241;43m=\u001b[39;49m\u001b[43m(\u001b[49m\u001b[43mmy_input\u001b[49m\u001b[43m,\u001b[49m\u001b[43m \u001b[49m\u001b[43mTb\u001b[49m\u001b[43m,\u001b[49m\u001b[43m \u001b[49m\u001b[43mEb\u001b[49m\u001b[43m)\u001b[49m\u001b[43m,\u001b[49m\u001b[43m \u001b[49m\u001b[43mIBP\u001b[49m\u001b[38;5;241;43m=\u001b[39;49m\u001b[38;5;28;43;01mFalse\u001b[39;49;00m\u001b[43m,\u001b[49m\u001b[43m \u001b[49m\u001b[43mmethod\u001b[49m\u001b[38;5;241;43m=\u001b[39;49m\u001b[38;5;124;43m\"\u001b[39;49m\u001b[38;5;124;43mbackward\u001b[39;49m\u001b[38;5;124;43m\"\u001b[39;49m\u001b[43m)\u001b[49m\n",
      "File \u001b[1;32m~\\anaconda3\\envs\\survival\\lib\\site-packages\\auto_LiRPA\\bound_general.py:1314\u001b[0m, in \u001b[0;36mBoundedModule.compute_bounds\u001b[1;34m(self, x, aux, C, method, IBP, forward, bound_lower, bound_upper, reuse_ibp, reuse_alpha, return_A, needed_A_dict, final_node_name, average_A, intermediate_layer_bounds, reference_bounds, intermediate_constr, alpha_idx, aux_reference_bounds, need_A_only, cutter, decision_thresh, update_mask)\u001b[0m\n\u001b[0;32m   1311\u001b[0m \u001b[38;5;28mself\u001b[39m\u001b[38;5;241m.\u001b[39maux_reference_bounds \u001b[38;5;241m=\u001b[39m aux_reference_bounds\n\u001b[0;32m   1312\u001b[0m \u001b[38;5;28mself\u001b[39m\u001b[38;5;241m.\u001b[39mfinal_node_name \u001b[38;5;241m=\u001b[39m final\u001b[38;5;241m.\u001b[39mname\n\u001b[1;32m-> 1314\u001b[0m \u001b[38;5;28;43mself\u001b[39;49m\u001b[38;5;241;43m.\u001b[39;49m\u001b[43mcheck_prior_bounds\u001b[49m\u001b[43m(\u001b[49m\u001b[43mfinal\u001b[49m\u001b[43m)\u001b[49m\n\u001b[0;32m   1316\u001b[0m \u001b[38;5;28;01mif\u001b[39;00m method \u001b[38;5;241m==\u001b[39m \u001b[38;5;124m'\u001b[39m\u001b[38;5;124mbackward\u001b[39m\u001b[38;5;124m'\u001b[39m:\n\u001b[0;32m   1317\u001b[0m     \u001b[38;5;66;03m# This is for the final output bound.\u001b[39;00m\n\u001b[0;32m   1318\u001b[0m     \u001b[38;5;66;03m# No need to pass in intermediate layer beta constraints.\u001b[39;00m\n\u001b[0;32m   1319\u001b[0m     ret \u001b[38;5;241m=\u001b[39m \u001b[38;5;28mself\u001b[39m\u001b[38;5;241m.\u001b[39mbackward_general(\n\u001b[0;32m   1320\u001b[0m         C\u001b[38;5;241m=\u001b[39mC, node\u001b[38;5;241m=\u001b[39mfinal,\n\u001b[0;32m   1321\u001b[0m         bound_lower\u001b[38;5;241m=\u001b[39mbound_lower, bound_upper\u001b[38;5;241m=\u001b[39mbound_upper,\n\u001b[0;32m   1322\u001b[0m         average_A\u001b[38;5;241m=\u001b[39maverage_A, need_A_only\u001b[38;5;241m=\u001b[39mneed_A_only,\n\u001b[0;32m   1323\u001b[0m         unstable_idx\u001b[38;5;241m=\u001b[39malpha_idx, update_mask\u001b[38;5;241m=\u001b[39mupdate_mask)\n",
      "File \u001b[1;32m~\\anaconda3\\envs\\survival\\lib\\site-packages\\auto_LiRPA\\bound_general.py:842\u001b[0m, in \u001b[0;36mBoundedModule.check_prior_bounds\u001b[1;34m(self, node)\u001b[0m\n\u001b[0;32m    839\u001b[0m     \u001b[38;5;28;01mreturn\u001b[39;00m\n\u001b[0;32m    841\u001b[0m \u001b[38;5;28;01mfor\u001b[39;00m n \u001b[38;5;129;01min\u001b[39;00m node\u001b[38;5;241m.\u001b[39minputs:\n\u001b[1;32m--> 842\u001b[0m     \u001b[38;5;28;43mself\u001b[39;49m\u001b[38;5;241;43m.\u001b[39;49m\u001b[43mcheck_prior_bounds\u001b[49m\u001b[43m(\u001b[49m\u001b[43mn\u001b[49m\u001b[43m)\u001b[49m\n\u001b[0;32m    844\u001b[0m \u001b[38;5;28;01mif\u001b[39;00m \u001b[38;5;28mgetattr\u001b[39m(node, \u001b[38;5;124m'\u001b[39m\u001b[38;5;124mnonlinear\u001b[39m\u001b[38;5;124m'\u001b[39m, \u001b[38;5;28;01mFalse\u001b[39;00m):\n\u001b[0;32m    845\u001b[0m     \u001b[38;5;28;01mfor\u001b[39;00m n \u001b[38;5;129;01min\u001b[39;00m node\u001b[38;5;241m.\u001b[39minputs:\n",
      "File \u001b[1;32m~\\anaconda3\\envs\\survival\\lib\\site-packages\\auto_LiRPA\\bound_general.py:842\u001b[0m, in \u001b[0;36mBoundedModule.check_prior_bounds\u001b[1;34m(self, node)\u001b[0m\n\u001b[0;32m    839\u001b[0m     \u001b[38;5;28;01mreturn\u001b[39;00m\n\u001b[0;32m    841\u001b[0m \u001b[38;5;28;01mfor\u001b[39;00m n \u001b[38;5;129;01min\u001b[39;00m node\u001b[38;5;241m.\u001b[39minputs:\n\u001b[1;32m--> 842\u001b[0m     \u001b[38;5;28;43mself\u001b[39;49m\u001b[38;5;241;43m.\u001b[39;49m\u001b[43mcheck_prior_bounds\u001b[49m\u001b[43m(\u001b[49m\u001b[43mn\u001b[49m\u001b[43m)\u001b[49m\n\u001b[0;32m    844\u001b[0m \u001b[38;5;28;01mif\u001b[39;00m \u001b[38;5;28mgetattr\u001b[39m(node, \u001b[38;5;124m'\u001b[39m\u001b[38;5;124mnonlinear\u001b[39m\u001b[38;5;124m'\u001b[39m, \u001b[38;5;28;01mFalse\u001b[39;00m):\n\u001b[0;32m    845\u001b[0m     \u001b[38;5;28;01mfor\u001b[39;00m n \u001b[38;5;129;01min\u001b[39;00m node\u001b[38;5;241m.\u001b[39minputs:\n",
      "File \u001b[1;32m~\\anaconda3\\envs\\survival\\lib\\site-packages\\auto_LiRPA\\bound_general.py:849\u001b[0m, in \u001b[0;36mBoundedModule.check_prior_bounds\u001b[1;34m(self, node)\u001b[0m\n\u001b[0;32m    846\u001b[0m         \u001b[38;5;28mself\u001b[39m\u001b[38;5;241m.\u001b[39mcompute_intermediate_bounds(n, prior_checked\u001b[38;5;241m=\u001b[39m\u001b[38;5;28;01mTrue\u001b[39;00m)\n\u001b[0;32m    848\u001b[0m \u001b[38;5;28;01mfor\u001b[39;00m i \u001b[38;5;129;01min\u001b[39;00m \u001b[38;5;28mgetattr\u001b[39m(node, \u001b[38;5;124m'\u001b[39m\u001b[38;5;124mrequires_input_bounds\u001b[39m\u001b[38;5;124m'\u001b[39m, []):\n\u001b[1;32m--> 849\u001b[0m     \u001b[38;5;28;43mself\u001b[39;49m\u001b[38;5;241;43m.\u001b[39;49m\u001b[43mcompute_intermediate_bounds\u001b[49m\u001b[43m(\u001b[49m\n\u001b[0;32m    850\u001b[0m \u001b[43m        \u001b[49m\u001b[43mnode\u001b[49m\u001b[38;5;241;43m.\u001b[39;49m\u001b[43minputs\u001b[49m\u001b[43m[\u001b[49m\u001b[43mi\u001b[49m\u001b[43m]\u001b[49m\u001b[43m,\u001b[49m\u001b[43m \u001b[49m\u001b[43mprior_checked\u001b[49m\u001b[38;5;241;43m=\u001b[39;49m\u001b[38;5;28;43;01mTrue\u001b[39;49;00m\u001b[43m)\u001b[49m\n\u001b[0;32m    852\u001b[0m node\u001b[38;5;241m.\u001b[39mprior_checked \u001b[38;5;241m=\u001b[39m \u001b[38;5;28;01mTrue\u001b[39;00m\n",
      "File \u001b[1;32m~\\anaconda3\\envs\\survival\\lib\\site-packages\\auto_LiRPA\\bound_general.py:950\u001b[0m, in \u001b[0;36mBoundedModule.compute_intermediate_bounds\u001b[1;34m(self, node, prior_checked)\u001b[0m\n\u001b[0;32m    944\u001b[0m         node\u001b[38;5;241m.\u001b[39mlower, node\u001b[38;5;241m.\u001b[39mupper, _ \u001b[38;5;241m=\u001b[39m \u001b[38;5;28mself\u001b[39m\u001b[38;5;241m.\u001b[39mbackward_general(\n\u001b[0;32m    945\u001b[0m             C\u001b[38;5;241m=\u001b[39mnewC, node\u001b[38;5;241m=\u001b[39mnode, unstable_idx\u001b[38;5;241m=\u001b[39munstable_idx,\n\u001b[0;32m    946\u001b[0m             unstable_size\u001b[38;5;241m=\u001b[39munstable_size)\n\u001b[0;32m    947\u001b[0m     \u001b[38;5;28;01melse\u001b[39;00m:\n\u001b[0;32m    948\u001b[0m         \u001b[38;5;66;03m# Compute backward bounds only when there are unstable\u001b[39;00m\n\u001b[0;32m    949\u001b[0m         \u001b[38;5;66;03m# neurons, or when we don't know which neurons are unstable.\u001b[39;00m\n\u001b[1;32m--> 950\u001b[0m         node\u001b[38;5;241m.\u001b[39mlower, node\u001b[38;5;241m.\u001b[39mupper \u001b[38;5;241m=\u001b[39m \u001b[38;5;28;43mself\u001b[39;49m\u001b[38;5;241;43m.\u001b[39;49m\u001b[43mbackward_general\u001b[49m\u001b[43m(\u001b[49m\n\u001b[0;32m    951\u001b[0m \u001b[43m            \u001b[49m\u001b[43mC\u001b[49m\u001b[38;5;241;43m=\u001b[39;49m\u001b[43mnewC\u001b[49m\u001b[43m,\u001b[49m\u001b[43m \u001b[49m\u001b[43mnode\u001b[49m\u001b[38;5;241;43m=\u001b[39;49m\u001b[43mnode\u001b[49m\u001b[43m,\u001b[49m\u001b[43m \u001b[49m\u001b[43munstable_idx\u001b[49m\u001b[38;5;241;43m=\u001b[39;49m\u001b[43munstable_idx\u001b[49m\u001b[43m,\u001b[49m\n\u001b[0;32m    952\u001b[0m \u001b[43m            \u001b[49m\u001b[43munstable_size\u001b[49m\u001b[38;5;241;43m=\u001b[39;49m\u001b[43munstable_size\u001b[49m\u001b[43m)\u001b[49m\n\u001b[0;32m    954\u001b[0m \u001b[38;5;28;01mif\u001b[39;00m reduced_dim:\n\u001b[0;32m    955\u001b[0m     \u001b[38;5;28mself\u001b[39m\u001b[38;5;241m.\u001b[39mrestore_sparse_bounds(\n\u001b[0;32m    956\u001b[0m         node, unstable_idx, unstable_size,\n\u001b[0;32m    957\u001b[0m         ref_intermediate_lb, ref_intermediate_ub)\n",
      "File \u001b[1;32m~\\anaconda3\\envs\\survival\\lib\\site-packages\\auto_LiRPA\\backward_bound.py:156\u001b[0m, in \u001b[0;36mbackward_general\u001b[1;34m(self, C, node, bound_lower, bound_upper, average_A, need_A_only, unstable_idx, unstable_size, update_mask, verbose)\u001b[0m\n\u001b[0;32m    153\u001b[0m     A, lower_b, upper_b \u001b[38;5;241m=\u001b[39m l\u001b[38;5;241m.\u001b[39mbound_backward(\n\u001b[0;32m    154\u001b[0m         l\u001b[38;5;241m.\u001b[39mlA, l\u001b[38;5;241m.\u001b[39muA, \u001b[38;5;241m*\u001b[39ml\u001b[38;5;241m.\u001b[39minputs, start_shape\u001b[38;5;241m=\u001b[39mstart_shape, start_node\u001b[38;5;241m=\u001b[39mnode)\n\u001b[0;32m    155\u001b[0m \u001b[38;5;28;01melse\u001b[39;00m:\n\u001b[1;32m--> 156\u001b[0m     A, lower_b, upper_b \u001b[38;5;241m=\u001b[39m \u001b[43ml\u001b[49m\u001b[38;5;241;43m.\u001b[39;49m\u001b[43mbound_backward\u001b[49m\u001b[43m(\u001b[49m\u001b[43ml\u001b[49m\u001b[38;5;241;43m.\u001b[39;49m\u001b[43mlA\u001b[49m\u001b[43m,\u001b[49m\u001b[43m \u001b[49m\u001b[43ml\u001b[49m\u001b[38;5;241;43m.\u001b[39;49m\u001b[43muA\u001b[49m\u001b[43m,\u001b[49m\u001b[43m \u001b[49m\u001b[38;5;241;43m*\u001b[39;49m\u001b[43ml\u001b[49m\u001b[38;5;241;43m.\u001b[39;49m\u001b[43minputs\u001b[49m\u001b[43m)\u001b[49m\n\u001b[0;32m    157\u001b[0m \u001b[38;5;66;03m# After propagation through this node, we delete its lA, uA variables.\u001b[39;00m\n\u001b[0;32m    158\u001b[0m \u001b[38;5;28;01mif\u001b[39;00m \u001b[38;5;129;01mnot\u001b[39;00m \u001b[38;5;28mself\u001b[39m\u001b[38;5;241m.\u001b[39mreturn_A \u001b[38;5;129;01mand\u001b[39;00m node\u001b[38;5;241m.\u001b[39mname \u001b[38;5;241m!=\u001b[39m \u001b[38;5;28mself\u001b[39m\u001b[38;5;241m.\u001b[39mfinal_name:\n",
      "File \u001b[1;32m~\\anaconda3\\envs\\survival\\lib\\site-packages\\auto_LiRPA\\operators\\shape.py:507\u001b[0m, in \u001b[0;36mBoundTranspose.bound_backward\u001b[1;34m(self, last_lA, last_uA, x)\u001b[0m\n\u001b[0;32m    504\u001b[0m         \u001b[38;5;28;01mreturn\u001b[39;00m \u001b[38;5;28;01mNone\u001b[39;00m\n\u001b[0;32m    505\u001b[0m     \u001b[38;5;28;01mreturn\u001b[39;00m last_A\u001b[38;5;241m.\u001b[39mpermute(\u001b[38;5;28mself\u001b[39m\u001b[38;5;241m.\u001b[39mperm_inv_inc_one)\n\u001b[1;32m--> 507\u001b[0m \u001b[38;5;28;01mreturn\u001b[39;00m [(\u001b[43m_bound_oneside\u001b[49m\u001b[43m(\u001b[49m\u001b[43mlast_lA\u001b[49m\u001b[43m)\u001b[49m, _bound_oneside(last_uA))], \u001b[38;5;241m0\u001b[39m, \u001b[38;5;241m0\u001b[39m\n",
      "File \u001b[1;32m~\\anaconda3\\envs\\survival\\lib\\site-packages\\auto_LiRPA\\operators\\shape.py:505\u001b[0m, in \u001b[0;36mBoundTranspose.bound_backward.<locals>._bound_oneside\u001b[1;34m(last_A)\u001b[0m\n\u001b[0;32m    503\u001b[0m \u001b[38;5;28;01mif\u001b[39;00m last_A \u001b[38;5;129;01mis\u001b[39;00m \u001b[38;5;28;01mNone\u001b[39;00m:\n\u001b[0;32m    504\u001b[0m     \u001b[38;5;28;01mreturn\u001b[39;00m \u001b[38;5;28;01mNone\u001b[39;00m\n\u001b[1;32m--> 505\u001b[0m \u001b[38;5;28;01mreturn\u001b[39;00m \u001b[43mlast_A\u001b[49m\u001b[38;5;241;43m.\u001b[39;49m\u001b[43mpermute\u001b[49m\u001b[43m(\u001b[49m\u001b[38;5;28;43mself\u001b[39;49m\u001b[38;5;241;43m.\u001b[39;49m\u001b[43mperm_inv_inc_one\u001b[49m\u001b[43m)\u001b[49m\n",
      "\u001b[1;31mRuntimeError\u001b[0m: number of dims don't match in permute"
     ]
    }
   ],
   "source": [
    "from auto_LiRPA.perturbations import *\n",
    "\n",
    "epsilon = 1e-4\n",
    "# Define perturbation. Here we add Linf perturbation to input data.\n",
    "ptb = PerturbationLpNorm(norm=np.inf, eps=torch.Tensor([epsilon]))\n",
    "# Make the input a BoundedTensor with the pre-defined perturbation.\n",
    "my_input = BoundedTensor(torch.Tensor(Xb), ptb)\n",
    "# Regular forward propagation using BoundedTensor works as usual.\n",
    "# prediction = model(my_input,torch.rand_like(T_train),torch.rand_like(E_train))\n",
    "# Compute LiRPA bounds using CROWN\n",
    "lb, ub = model_robust_wrap.compute_bounds(x=(my_input, Tb, Eb), IBP=False, method=\"backward\")"
   ]
  }
 ],
 "metadata": {
  "kernelspec": {
   "display_name": "survival",
   "language": "python",
   "name": "survival"
  },
  "language_info": {
   "codemirror_mode": {
    "name": "ipython",
    "version": 3
   },
   "file_extension": ".py",
   "mimetype": "text/x-python",
   "name": "python",
   "nbconvert_exporter": "python",
   "pygments_lexer": "ipython3",
   "version": "3.10.13"
  }
 },
 "nbformat": 4,
 "nbformat_minor": 4
}
