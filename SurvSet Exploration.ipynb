{
 "cells": [
  {
   "cell_type": "markdown",
   "id": "a2c2a05e-aad0-4a9a-b16b-4241ba03cabc",
   "metadata": {},
   "source": [
    "* SurvSet Information may be found [here](https://github.com/ErikinBC/SurvSet)\n",
    "* Paper may be found [here](https://arxiv.org/pdf/2203.03094.pdf)"
   ]
  },
  {
   "cell_type": "code",
   "execution_count": 1,
   "id": "868c50bd-4479-4cbf-93df-06ca524ba84d",
   "metadata": {
    "ExecuteTime": {
     "end_time": "2023-11-07T14:35:03.600568Z",
     "start_time": "2023-11-07T14:35:02.834970Z"
    }
   },
   "outputs": [],
   "source": [
    "from SurvSet.data import SurvLoader\n",
    "import pandas as pd\n",
    "\n",
    "pd.set_option('display.max_rows', 100)"
   ]
  },
  {
   "cell_type": "code",
   "execution_count": 2,
   "id": "fdd76390-095d-4d43-a09e-6f0d60553568",
   "metadata": {
    "ExecuteTime": {
     "end_time": "2023-11-07T14:35:03.629920Z",
     "start_time": "2023-11-07T14:35:03.606485Z"
    }
   },
   "outputs": [],
   "source": [
    "loader = SurvLoader()"
   ]
  },
  {
   "cell_type": "code",
   "execution_count": 3,
   "id": "d7ac56ad-7dcc-4c62-ba36-ed6263e27b12",
   "metadata": {
    "ExecuteTime": {
     "end_time": "2023-11-07T14:35:03.693296Z",
     "start_time": "2023-11-07T14:35:03.643337Z"
    }
   },
   "outputs": [
    {
     "name": "stdout",
     "output_type": "stream",
     "text": [
      "                  ds  is_td      n  n_fac  n_ohe  n_num\n",
      "4           AML_Bull  False    116      0      0   6283\n",
      "16             Aids2  False   2839      3     11      1\n",
      "70       Bergamaschi  False     82      0      0     10\n",
      "61              DBCD  False    295      0      0   4919\n",
      "37             DLBCL  False    240      0      0   7399\n",
      "24          Dialysis  False   6805      2     70      2\n",
      "13             FRTCS  False    697      4      4      9\n",
      "47        Framingham  False   4699      2     12      5\n",
      "42             GBSG2  False    686      3      4      5\n",
      "5           LeukSurv  False   1043      2     24      5\n",
      "32        MCLcleaned  False     92      0      0    574\n",
      "26          Melanoma  False    205      2      2      3\n",
      "22             NSBCD  False    115      0      0    549\n",
      "57              Pbc3  False    349      5     12      7\n",
      "29             TRACE  False   1878      4      4      2\n",
      "8           UnempDur  False   3241      1      1      5\n",
      "67      Unemployment  False    452      5      7      0\n",
      "21              Z243  False    100      5     19      4\n",
      "46             acath  False   3504      1      1      2\n",
      "52              actg  False   1151      7     13      4\n",
      "68            breast  False    100      4      4      0\n",
      "7               burn  False    154     10     12      1\n",
      "27            cancer  False    228      3     23      5\n",
      "19               cgd  False    128      7     20      3\n",
      "66              chop  False    414      0      0   3833\n",
      "48             colon  False    929      7     10      2\n",
      "14              cost  False    518     10     10      3\n",
      "51      d.oropha.rec  False    192      8     20      4\n",
      "44        dataDIVAT1  False   5943      3     14      2\n",
      "40        dataDIVAT2  False   1837      3      3      1\n",
      "39        dataDIVAT3  False   4267      4     13      3\n",
      "53      dataOvarian1  False    912      2      4    158\n",
      "62          diabetes  False    394      3      3      1\n",
      "17           divorce  False   3371      3      4      0\n",
      "45             e1684  False    284      2      2      1\n",
      "72           flchain  False   7874      4     26      6\n",
      "49            follic  False    541      3      2      2\n",
      "64            glioma  False     37      3      3      1\n",
      "73             grace  False   1000      2      2      3\n",
      "12           gse1992  False    124      4     11  15530\n",
      "74           gse3143  False    158      1      3   8660\n",
      "30           gse4335  False    115      6     20  12795\n",
      "0             hdfail  False  52422      5     87      1\n",
      "54    hepatoCellular  False    227     13     13     30\n",
      "50              mgus  False    241      2      5      7\n",
      "18     micro.censure  False    117     39     80      1\n",
      "25             nki70  False    144      4      5     71\n",
      "9              nwtco  False   4028      5      7      2\n",
      "31               ova  False    358      3      9      2\n",
      "55           ovarian  False     26      3      3      1\n",
      "36               pbc  False    312      5      5      1\n",
      "20   pharmacoSmoking  False    125      7     12      4\n",
      "38         phpl04K8a  False    442      1      1     20\n",
      "71          prostate  False    502      6     16      9\n",
      "43  prostateSurvival  False  14294      3      6      0\n",
      "15             rdata  False   1040      2      4      2\n",
      "56       retinopathy  False    394      5      9      2\n",
      "10             rott2  False   2982      6      7      5\n",
      "75            scania  False   1931      4      7      1\n",
      "33            smarto  False   3873      9     17     17\n",
      "1             stagec  False    146      4     15      3\n",
      "34          support2  False   9105     11     41     24\n",
      "23               uis  False    628      5     11      3\n",
      "3                vdv  False     78      0      0   4705\n",
      "2            veteran  False    137      3      5      3\n",
      "35              vlbw  False    617     15     34      7\n",
      "60           whas500  False    461      9     10      7\n",
      "41              wpbc  False    198      0      0     32\n",
      "6               zinc  False    431     11     18      2\n"
     ]
    }
   ],
   "source": [
    "print(loader.df_ds[~loader.df_ds.is_td].sort_values(\"ds\"))"
   ]
  },
  {
   "cell_type": "code",
   "execution_count": 6,
   "id": "21e02078-b60b-48fc-b27b-9f3e8ebe4269",
   "metadata": {
    "ExecuteTime": {
     "end_time": "2023-11-07T14:38:29.036803Z",
     "start_time": "2023-11-07T14:38:29.020912Z"
    }
   },
   "outputs": [],
   "source": [
    "df,ref = loader.load_dataset(ds_name=\"flchain\").values()"
   ]
  },
  {
   "cell_type": "code",
   "execution_count": 7,
   "id": "9232fcb8-f9e2-4dbb-a3d7-60b6f7527b21",
   "metadata": {
    "ExecuteTime": {
     "end_time": "2023-11-07T14:38:29.262075Z",
     "start_time": "2023-11-07T14:38:29.218771Z"
    }
   },
   "outputs": [
    {
     "data": {
      "text/plain": [
       "'https://stat.ethz.ch/R-manual/R-devel/library/survival/html/flchain.html'"
      ]
     },
     "execution_count": 7,
     "metadata": {},
     "output_type": "execute_result"
    }
   ],
   "source": [
    "ref"
   ]
  },
  {
   "cell_type": "code",
   "execution_count": 8,
   "id": "f6e5c1c4-3492-4de6-9e71-0d461cd13322",
   "metadata": {},
   "outputs": [
    {
     "name": "stdout",
     "output_type": "stream",
     "text": [
      "<class 'pandas.core.frame.DataFrame'>\n",
      "RangeIndex: 7874 entries, 0 to 7873\n",
      "Data columns (total 13 columns):\n",
      " #   Column          Non-Null Count  Dtype  \n",
      "---  ------          --------------  -----  \n",
      " 0   pid             7874 non-null   int64  \n",
      " 1   event           7874 non-null   int64  \n",
      " 2   time            7874 non-null   int64  \n",
      " 3   num_age         7874 non-null   int64  \n",
      " 4   num_kappa       7874 non-null   float64\n",
      " 5   num_lambda      7874 non-null   float64\n",
      " 6   num_flc_grp     7874 non-null   int64  \n",
      " 7   num_creatinine  6524 non-null   float64\n",
      " 8   num_sample_yr   7874 non-null   int64  \n",
      " 9   fac_sex         7874 non-null   object \n",
      " 10  fac_chapter     7874 non-null   object \n",
      " 11  fac_sample_yr   7874 non-null   object \n",
      " 12  fac_mgus        7874 non-null   object \n",
      "dtypes: float64(3), int64(6), object(4)\n",
      "memory usage: 799.8+ KB\n"
     ]
    }
   ],
   "source": [
    "df.info()"
   ]
  },
  {
   "cell_type": "code",
   "execution_count": 9,
   "id": "da2e55fe-23b8-4f42-a566-ae20fa97d1f0",
   "metadata": {},
   "outputs": [
    {
     "data": {
      "text/plain": [
       "(7874, 13)"
      ]
     },
     "execution_count": 9,
     "metadata": {},
     "output_type": "execute_result"
    }
   ],
   "source": [
    "df.shape"
   ]
  },
  {
   "cell_type": "code",
   "execution_count": 10,
   "id": "e2d0d246-a61d-4591-95a8-05ebf83f000f",
   "metadata": {},
   "outputs": [
    {
     "data": {
      "text/plain": [
       "(6524, 13)"
      ]
     },
     "execution_count": 10,
     "metadata": {},
     "output_type": "execute_result"
    }
   ],
   "source": [
    "df.dropna(axis=0,inplace=True)\n",
    "df.shape"
   ]
  },
  {
   "cell_type": "code",
   "execution_count": 11,
   "id": "178efe6a-31af-48a7-9612-2c8481b28f4b",
   "metadata": {},
   "outputs": [
    {
     "name": "stdout",
     "output_type": "stream",
     "text": [
      "<class 'pandas.core.frame.DataFrame'>\n",
      "Index: 6524 entries, 0 to 7873\n",
      "Data columns (total 13 columns):\n",
      " #   Column          Non-Null Count  Dtype  \n",
      "---  ------          --------------  -----  \n",
      " 0   pid             6524 non-null   int64  \n",
      " 1   event           6524 non-null   int64  \n",
      " 2   time            6524 non-null   int64  \n",
      " 3   num_age         6524 non-null   int64  \n",
      " 4   num_kappa       6524 non-null   float64\n",
      " 5   num_lambda      6524 non-null   float64\n",
      " 6   num_flc_grp     6524 non-null   int64  \n",
      " 7   num_creatinine  6524 non-null   float64\n",
      " 8   num_sample_yr   6524 non-null   int64  \n",
      " 9   fac_sex         6524 non-null   object \n",
      " 10  fac_chapter     6524 non-null   object \n",
      " 11  fac_sample_yr   6524 non-null   object \n",
      " 12  fac_mgus        6524 non-null   object \n",
      "dtypes: float64(3), int64(6), object(4)\n",
      "memory usage: 713.6+ KB\n"
     ]
    }
   ],
   "source": [
    "df.info()"
   ]
  },
  {
   "cell_type": "code",
   "execution_count": 33,
   "id": "9371bafd-8eef-4aa6-8817-459176633461",
   "metadata": {
    "ExecuteTime": {
     "end_time": "2023-11-07T14:38:29.449982Z",
     "start_time": "2023-11-07T14:38:29.401438Z"
    },
    "scrolled": true
   },
   "outputs": [
    {
     "data": {
      "text/html": [
       "<div>\n",
       "<style scoped>\n",
       "    .dataframe tbody tr th:only-of-type {\n",
       "        vertical-align: middle;\n",
       "    }\n",
       "\n",
       "    .dataframe tbody tr th {\n",
       "        vertical-align: top;\n",
       "    }\n",
       "\n",
       "    .dataframe thead th {\n",
       "        text-align: right;\n",
       "    }\n",
       "</style>\n",
       "<table border=\"1\" class=\"dataframe\">\n",
       "  <thead>\n",
       "    <tr style=\"text-align: right;\">\n",
       "      <th></th>\n",
       "      <th>pid</th>\n",
       "      <th>event</th>\n",
       "      <th>time</th>\n",
       "      <th>num_karn</th>\n",
       "      <th>num_diam</th>\n",
       "      <th>fac_karn</th>\n",
       "      <th>fac_diam</th>\n",
       "      <th>fac_figo</th>\n",
       "    </tr>\n",
       "  </thead>\n",
       "  <tbody>\n",
       "    <tr>\n",
       "      <th>0</th>\n",
       "      <td>1</td>\n",
       "      <td>1</td>\n",
       "      <td>7</td>\n",
       "      <td>1</td>\n",
       "      <td>3</td>\n",
       "      <td>1</td>\n",
       "      <td>3</td>\n",
       "      <td>1</td>\n",
       "    </tr>\n",
       "    <tr>\n",
       "      <th>1</th>\n",
       "      <td>2</td>\n",
       "      <td>1</td>\n",
       "      <td>8</td>\n",
       "      <td>2</td>\n",
       "      <td>2</td>\n",
       "      <td>2</td>\n",
       "      <td>2</td>\n",
       "      <td>1</td>\n",
       "    </tr>\n",
       "    <tr>\n",
       "      <th>2</th>\n",
       "      <td>3</td>\n",
       "      <td>1</td>\n",
       "      <td>9</td>\n",
       "      <td>4</td>\n",
       "      <td>4</td>\n",
       "      <td>4</td>\n",
       "      <td>4</td>\n",
       "      <td>1</td>\n",
       "    </tr>\n",
       "    <tr>\n",
       "      <th>3</th>\n",
       "      <td>4</td>\n",
       "      <td>1</td>\n",
       "      <td>10</td>\n",
       "      <td>4</td>\n",
       "      <td>4</td>\n",
       "      <td>4</td>\n",
       "      <td>4</td>\n",
       "      <td>1</td>\n",
       "    </tr>\n",
       "    <tr>\n",
       "      <th>4</th>\n",
       "      <td>5</td>\n",
       "      <td>1</td>\n",
       "      <td>13</td>\n",
       "      <td>2</td>\n",
       "      <td>4</td>\n",
       "      <td>2</td>\n",
       "      <td>4</td>\n",
       "      <td>1</td>\n",
       "    </tr>\n",
       "  </tbody>\n",
       "</table>\n",
       "</div>"
      ],
      "text/plain": [
       "   pid  event  time  num_karn  num_diam fac_karn fac_diam fac_figo\n",
       "0    1      1     7         1         3        1        3        1\n",
       "1    2      1     8         2         2        2        2        1\n",
       "2    3      1     9         4         4        4        4        1\n",
       "3    4      1    10         4         4        4        4        1\n",
       "4    5      1    13         2         4        2        4        1"
      ]
     },
     "execution_count": 33,
     "metadata": {},
     "output_type": "execute_result"
    }
   ],
   "source": [
    "df.head()"
   ]
  },
  {
   "cell_type": "code",
   "execution_count": 34,
   "id": "a6157fc9",
   "metadata": {
    "ExecuteTime": {
     "end_time": "2023-11-07T14:35:05.362295Z",
     "start_time": "2023-11-07T14:35:05.351097Z"
    },
    "collapsed": false,
    "jupyter": {
     "outputs_hidden": false
    }
   },
   "outputs": [
    {
     "data": {
      "text/plain": [
       "array([1, 0], dtype=int64)"
      ]
     },
     "execution_count": 34,
     "metadata": {},
     "output_type": "execute_result"
    }
   ],
   "source": [
    "df.event.unique()"
   ]
  },
  {
   "cell_type": "code",
   "execution_count": 35,
   "id": "8fc0c1b5-da51-4044-9fc3-8fff6abf8ab0",
   "metadata": {},
   "outputs": [
    {
     "data": {
      "text/plain": [
       "1"
      ]
     },
     "execution_count": 35,
     "metadata": {},
     "output_type": "execute_result"
    }
   ],
   "source": [
    "df.pid.value_counts().max()"
   ]
  },
  {
   "cell_type": "code",
   "execution_count": 36,
   "id": "e1302a76-5d08-49ee-997b-985ddc758cd4",
   "metadata": {},
   "outputs": [
    {
     "data": {
      "text/plain": [
       "7"
      ]
     },
     "execution_count": 36,
     "metadata": {},
     "output_type": "execute_result"
    }
   ],
   "source": [
    "df.time.min()"
   ]
  },
  {
   "cell_type": "code",
   "execution_count": 37,
   "id": "8f450f2d-71e6-4a64-b579-6bce00503d32",
   "metadata": {},
   "outputs": [
    {
     "data": {
      "text/plain": [
       "event\n",
       "1    266\n",
       "0     92\n",
       "Name: count, dtype: int64"
      ]
     },
     "execution_count": 37,
     "metadata": {},
     "output_type": "execute_result"
    }
   ],
   "source": [
    "df.event.value_counts()"
   ]
  },
  {
   "cell_type": "code",
   "execution_count": 38,
   "id": "0add22de-c331-4263-9244-5eaf9b7c706a",
   "metadata": {},
   "outputs": [
    {
     "data": {
      "text/plain": [
       "19.25"
      ]
     },
     "execution_count": 38,
     "metadata": {},
     "output_type": "execute_result"
    }
   ],
   "source": [
    "231/12"
   ]
  },
  {
   "cell_type": "code",
   "execution_count": 39,
   "id": "3fbd4e20-b682-4dc4-9b5c-d00a3fb71c27",
   "metadata": {},
   "outputs": [
    {
     "data": {
      "text/plain": [
       "time\n",
       "7       1\n",
       "1109    1\n",
       "1439    1\n",
       "1421    1\n",
       "1392    1\n",
       "       ..\n",
       "463     1\n",
       "461     1\n",
       "459     1\n",
       "458     1\n",
       "2729    1\n",
       "Name: count, Length: 358, dtype: int64"
      ]
     },
     "execution_count": 39,
     "metadata": {},
     "output_type": "execute_result"
    }
   ],
   "source": [
    "df.time.value_counts()"
   ]
  },
  {
   "cell_type": "code",
   "execution_count": 40,
   "id": "b711eaaf-054b-44dd-be22-f01ad26f6b21",
   "metadata": {},
   "outputs": [
    {
     "data": {
      "text/plain": [
       "0      False\n",
       "1      False\n",
       "2      False\n",
       "3      False\n",
       "4      False\n",
       "       ...  \n",
       "353    False\n",
       "354    False\n",
       "355    False\n",
       "356    False\n",
       "357    False\n",
       "Name: time, Length: 358, dtype: bool"
      ]
     },
     "execution_count": 40,
     "metadata": {},
     "output_type": "execute_result"
    }
   ],
   "source": [
    "df.time.apply(lambda x: x is int)"
   ]
  },
  {
   "cell_type": "code",
   "execution_count": 41,
   "id": "5b7af581-7ffb-424d-8027-abbba0c71d78",
   "metadata": {},
   "outputs": [
    {
     "data": {
      "text/html": [
       "<div>\n",
       "<style scoped>\n",
       "    .dataframe tbody tr th:only-of-type {\n",
       "        vertical-align: middle;\n",
       "    }\n",
       "\n",
       "    .dataframe tbody tr th {\n",
       "        vertical-align: top;\n",
       "    }\n",
       "\n",
       "    .dataframe thead th {\n",
       "        text-align: right;\n",
       "    }\n",
       "</style>\n",
       "<table border=\"1\" class=\"dataframe\">\n",
       "  <thead>\n",
       "    <tr style=\"text-align: right;\">\n",
       "      <th></th>\n",
       "      <th>pid</th>\n",
       "      <th>event</th>\n",
       "      <th>time</th>\n",
       "      <th>num_karn</th>\n",
       "      <th>num_diam</th>\n",
       "    </tr>\n",
       "  </thead>\n",
       "  <tbody>\n",
       "    <tr>\n",
       "      <th>count</th>\n",
       "      <td>358.000000</td>\n",
       "      <td>358.000000</td>\n",
       "      <td>358.000000</td>\n",
       "      <td>358.000000</td>\n",
       "      <td>358.000000</td>\n",
       "    </tr>\n",
       "    <tr>\n",
       "      <th>mean</th>\n",
       "      <td>179.500000</td>\n",
       "      <td>0.743017</td>\n",
       "      <td>980.835196</td>\n",
       "      <td>1.173184</td>\n",
       "      <td>2.650838</td>\n",
       "    </tr>\n",
       "    <tr>\n",
       "      <th>std</th>\n",
       "      <td>103.489935</td>\n",
       "      <td>0.437582</td>\n",
       "      <td>741.253381</td>\n",
       "      <td>1.226759</td>\n",
       "      <td>1.379476</td>\n",
       "    </tr>\n",
       "    <tr>\n",
       "      <th>min</th>\n",
       "      <td>1.000000</td>\n",
       "      <td>0.000000</td>\n",
       "      <td>7.000000</td>\n",
       "      <td>0.000000</td>\n",
       "      <td>0.000000</td>\n",
       "    </tr>\n",
       "    <tr>\n",
       "      <th>25%</th>\n",
       "      <td>90.250000</td>\n",
       "      <td>0.000000</td>\n",
       "      <td>369.250000</td>\n",
       "      <td>0.000000</td>\n",
       "      <td>1.000000</td>\n",
       "    </tr>\n",
       "    <tr>\n",
       "      <th>50%</th>\n",
       "      <td>179.500000</td>\n",
       "      <td>1.000000</td>\n",
       "      <td>734.500000</td>\n",
       "      <td>1.000000</td>\n",
       "      <td>3.000000</td>\n",
       "    </tr>\n",
       "    <tr>\n",
       "      <th>75%</th>\n",
       "      <td>268.750000</td>\n",
       "      <td>1.000000</td>\n",
       "      <td>1619.250000</td>\n",
       "      <td>2.000000</td>\n",
       "      <td>4.000000</td>\n",
       "    </tr>\n",
       "    <tr>\n",
       "      <th>max</th>\n",
       "      <td>358.000000</td>\n",
       "      <td>1.000000</td>\n",
       "      <td>2729.000000</td>\n",
       "      <td>4.000000</td>\n",
       "      <td>4.000000</td>\n",
       "    </tr>\n",
       "  </tbody>\n",
       "</table>\n",
       "</div>"
      ],
      "text/plain": [
       "              pid       event         time    num_karn    num_diam\n",
       "count  358.000000  358.000000   358.000000  358.000000  358.000000\n",
       "mean   179.500000    0.743017   980.835196    1.173184    2.650838\n",
       "std    103.489935    0.437582   741.253381    1.226759    1.379476\n",
       "min      1.000000    0.000000     7.000000    0.000000    0.000000\n",
       "25%     90.250000    0.000000   369.250000    0.000000    1.000000\n",
       "50%    179.500000    1.000000   734.500000    1.000000    3.000000\n",
       "75%    268.750000    1.000000  1619.250000    2.000000    4.000000\n",
       "max    358.000000    1.000000  2729.000000    4.000000    4.000000"
      ]
     },
     "execution_count": 41,
     "metadata": {},
     "output_type": "execute_result"
    }
   ],
   "source": [
    "df.describe()"
   ]
  },
  {
   "cell_type": "code",
   "execution_count": null,
   "id": "7851fad1-bdb0-406c-a20b-693dea551400",
   "metadata": {},
   "outputs": [],
   "source": []
  }
 ],
 "metadata": {
  "kernelspec": {
   "display_name": "survival",
   "language": "python",
   "name": "survival"
  },
  "language_info": {
   "codemirror_mode": {
    "name": "ipython",
    "version": 3
   },
   "file_extension": ".py",
   "mimetype": "text/x-python",
   "name": "python",
   "nbconvert_exporter": "python",
   "pygments_lexer": "ipython3",
   "version": "3.10.13"
  }
 },
 "nbformat": 4,
 "nbformat_minor": 5
}
