{
 "cells": [
  {
   "cell_type": "markdown",
   "id": "a2c2a05e-aad0-4a9a-b16b-4241ba03cabc",
   "metadata": {},
   "source": [
    "* SurvSet Information may be found [here](https://github.com/ErikinBC/SurvSet)\n",
    "* Paper may be found [here](https://arxiv.org/pdf/2203.03094.pdf)"
   ]
  },
  {
   "cell_type": "code",
   "execution_count": 1,
   "id": "868c50bd-4479-4cbf-93df-06ca524ba84d",
   "metadata": {
    "ExecuteTime": {
     "end_time": "2023-11-07T14:35:03.600568Z",
     "start_time": "2023-11-07T14:35:02.834970Z"
    }
   },
   "outputs": [],
   "source": [
    "from SurvSet.data import SurvLoader\n",
    "import pandas as pd\n",
    "\n",
    "pd.set_option('display.max_rows', 100)"
   ]
  },
  {
   "cell_type": "code",
   "execution_count": 2,
   "id": "fdd76390-095d-4d43-a09e-6f0d60553568",
   "metadata": {
    "ExecuteTime": {
     "end_time": "2023-11-07T14:35:03.629920Z",
     "start_time": "2023-11-07T14:35:03.606485Z"
    }
   },
   "outputs": [],
   "source": [
    "loader = SurvLoader()"
   ]
  },
  {
   "cell_type": "code",
   "execution_count": 3,
   "id": "d7ac56ad-7dcc-4c62-ba36-ed6263e27b12",
   "metadata": {
    "ExecuteTime": {
     "end_time": "2023-11-07T14:35:03.693296Z",
     "start_time": "2023-11-07T14:35:03.643337Z"
    }
   },
   "outputs": [
    {
     "name": "stdout",
     "output_type": "stream",
     "text": [
      "                  ds  is_td      n  n_fac  n_ohe  n_num\n",
      "0             hdfail  False  52422      5     87      1\n",
      "1             stagec  False    146      4     15      3\n",
      "2            veteran  False    137      3      5      3\n",
      "3                vdv  False     78      0      0   4705\n",
      "4           AML_Bull  False    116      0      0   6283\n",
      "5           LeukSurv  False   1043      2     24      5\n",
      "6               zinc  False    431     11     18      2\n",
      "7               burn  False    154     10     12      1\n",
      "8           UnempDur  False   3241      1      1      5\n",
      "9              nwtco  False   4028      5      7      2\n",
      "10             rott2  False   2982      6      7      5\n",
      "12           gse1992  False    124      4     11  15530\n",
      "13             FRTCS  False    697      4      4      9\n",
      "14              cost  False    518     10     10      3\n",
      "15             rdata  False   1040      2      4      2\n",
      "16             Aids2  False   2839      3     11      1\n",
      "17           divorce  False   3371      3      4      0\n",
      "18     micro.censure  False    117     39     80      1\n",
      "19               cgd  False    128      7     20      3\n",
      "20   pharmacoSmoking  False    125      7     12      4\n",
      "21              Z243  False    100      5     19      4\n",
      "22             NSBCD  False    115      0      0    549\n",
      "23               uis  False    628      5     11      3\n",
      "24          Dialysis  False   6805      2     70      2\n",
      "25             nki70  False    144      4      5     71\n",
      "26          Melanoma  False    205      2      2      3\n",
      "27            cancer  False    228      3     23      5\n",
      "29             TRACE  False   1878      4      4      2\n",
      "30           gse4335  False    115      6     20  12795\n",
      "31               ova  False    358      3      9      2\n",
      "32        MCLcleaned  False     92      0      0    574\n",
      "33            smarto  False   3873      9     17     17\n",
      "34          support2  False   9105     11     41     24\n",
      "35              vlbw  False    617     15     34      7\n",
      "36               pbc  False    312      5      5      1\n",
      "37             DLBCL  False    240      0      0   7399\n",
      "38         phpl04K8a  False    442      1      1     20\n",
      "39        dataDIVAT3  False   4267      4     13      3\n",
      "40        dataDIVAT2  False   1837      3      3      1\n",
      "41              wpbc  False    198      0      0     32\n",
      "42             GBSG2  False    686      3      4      5\n",
      "43  prostateSurvival  False  14294      3      6      0\n",
      "44        dataDIVAT1  False   5943      3     14      2\n",
      "45             e1684  False    284      2      2      1\n",
      "46             acath  False   3504      1      1      2\n",
      "47        Framingham  False   4699      2     12      5\n",
      "48             colon  False    929      7     10      2\n",
      "49            follic  False    541      3      2      2\n",
      "50              mgus  False    241      2      5      7\n",
      "51      d.oropha.rec  False    192      8     20      4\n",
      "52              actg  False   1151      7     13      4\n",
      "53      dataOvarian1  False    912      2      4    158\n",
      "54    hepatoCellular  False    227     13     13     30\n",
      "55           ovarian  False     26      3      3      1\n",
      "56       retinopathy  False    394      5      9      2\n",
      "57              Pbc3  False    349      5     12      7\n",
      "60           whas500  False    461      9     10      7\n",
      "61              DBCD  False    295      0      0   4919\n",
      "62          diabetes  False    394      3      3      1\n",
      "64            glioma  False     37      3      3      1\n",
      "66              chop  False    414      0      0   3833\n",
      "67      Unemployment  False    452      5      7      0\n",
      "68            breast  False    100      4      4      0\n",
      "70       Bergamaschi  False     82      0      0     10\n",
      "71          prostate  False    502      6     16      9\n",
      "72           flchain  False   7874      4     26      6\n",
      "73             grace  False   1000      2      2      3\n",
      "74           gse3143  False    158      1      3   8660\n",
      "75            scania  False   1931      4      7      1\n"
     ]
    }
   ],
   "source": [
    "print(loader.df_ds[~loader.df_ds.is_td])"
   ]
  },
  {
   "cell_type": "code",
   "execution_count": 265,
   "id": "21e02078-b60b-48fc-b27b-9f3e8ebe4269",
   "metadata": {
    "ExecuteTime": {
     "end_time": "2023-11-07T14:38:29.036803Z",
     "start_time": "2023-11-07T14:38:29.020912Z"
    }
   },
   "outputs": [],
   "source": [
    "df,ref = loader.load_dataset(ds_name=\"prostate\").values()"
   ]
  },
  {
   "cell_type": "code",
   "execution_count": 266,
   "id": "9232fcb8-f9e2-4dbb-a3d7-60b6f7527b21",
   "metadata": {
    "ExecuteTime": {
     "end_time": "2023-11-07T14:38:29.262075Z",
     "start_time": "2023-11-07T14:38:29.218771Z"
    }
   },
   "outputs": [
    {
     "data": {
      "text/plain": [
       "'https://hbiostat.org/data/repo/Cprostate.html'"
      ]
     },
     "execution_count": 266,
     "metadata": {},
     "output_type": "execute_result"
    }
   ],
   "source": [
    "ref"
   ]
  },
  {
   "cell_type": "code",
   "execution_count": 267,
   "id": "f6e5c1c4-3492-4de6-9e71-0d461cd13322",
   "metadata": {},
   "outputs": [
    {
     "name": "stdout",
     "output_type": "stream",
     "text": [
      "<class 'pandas.core.frame.DataFrame'>\n",
      "RangeIndex: 502 entries, 0 to 501\n",
      "Data columns (total 18 columns):\n",
      " #   Column     Non-Null Count  Dtype  \n",
      "---  ------     --------------  -----  \n",
      " 0   pid        502 non-null    int64  \n",
      " 1   event      502 non-null    int64  \n",
      " 2   time       502 non-null    int64  \n",
      " 3   num_age    501 non-null    float64\n",
      " 4   num_wt     500 non-null    float64\n",
      " 5   num_sbp    502 non-null    int64  \n",
      " 6   num_dbp    502 non-null    int64  \n",
      " 7   num_hg     502 non-null    float64\n",
      " 8   num_sz     497 non-null    float64\n",
      " 9   num_sg     491 non-null    float64\n",
      " 10  num_ap     502 non-null    float64\n",
      " 11  num_sdate  502 non-null    int64  \n",
      " 12  fac_stage  502 non-null    object \n",
      " 13  fac_rx     502 non-null    object \n",
      " 14  fac_pf     502 non-null    object \n",
      " 15  fac_hx     502 non-null    object \n",
      " 16  fac_ekg    502 non-null    object \n",
      " 17  fac_bm     502 non-null    object \n",
      "dtypes: float64(6), int64(6), object(6)\n",
      "memory usage: 70.7+ KB\n"
     ]
    }
   ],
   "source": [
    "df.info()"
   ]
  },
  {
   "cell_type": "code",
   "execution_count": 268,
   "id": "da2e55fe-23b8-4f42-a566-ae20fa97d1f0",
   "metadata": {},
   "outputs": [
    {
     "data": {
      "text/plain": [
       "(502, 18)"
      ]
     },
     "execution_count": 268,
     "metadata": {},
     "output_type": "execute_result"
    }
   ],
   "source": [
    "df.shape"
   ]
  },
  {
   "cell_type": "code",
   "execution_count": 269,
   "id": "e2d0d246-a61d-4591-95a8-05ebf83f000f",
   "metadata": {},
   "outputs": [
    {
     "data": {
      "text/plain": [
       "(483, 18)"
      ]
     },
     "execution_count": 269,
     "metadata": {},
     "output_type": "execute_result"
    }
   ],
   "source": [
    "df.dropna(axis=0,inplace=True)\n",
    "df.shape"
   ]
  },
  {
   "cell_type": "code",
   "execution_count": 270,
   "id": "178efe6a-31af-48a7-9612-2c8481b28f4b",
   "metadata": {},
   "outputs": [
    {
     "name": "stdout",
     "output_type": "stream",
     "text": [
      "<class 'pandas.core.frame.DataFrame'>\n",
      "Index: 483 entries, 0 to 500\n",
      "Data columns (total 18 columns):\n",
      " #   Column     Non-Null Count  Dtype  \n",
      "---  ------     --------------  -----  \n",
      " 0   pid        483 non-null    int64  \n",
      " 1   event      483 non-null    int64  \n",
      " 2   time       483 non-null    int64  \n",
      " 3   num_age    483 non-null    float64\n",
      " 4   num_wt     483 non-null    float64\n",
      " 5   num_sbp    483 non-null    int64  \n",
      " 6   num_dbp    483 non-null    int64  \n",
      " 7   num_hg     483 non-null    float64\n",
      " 8   num_sz     483 non-null    float64\n",
      " 9   num_sg     483 non-null    float64\n",
      " 10  num_ap     483 non-null    float64\n",
      " 11  num_sdate  483 non-null    int64  \n",
      " 12  fac_stage  483 non-null    object \n",
      " 13  fac_rx     483 non-null    object \n",
      " 14  fac_pf     483 non-null    object \n",
      " 15  fac_hx     483 non-null    object \n",
      " 16  fac_ekg    483 non-null    object \n",
      " 17  fac_bm     483 non-null    object \n",
      "dtypes: float64(6), int64(6), object(6)\n",
      "memory usage: 71.7+ KB\n"
     ]
    }
   ],
   "source": [
    "df.info()"
   ]
  },
  {
   "cell_type": "code",
   "execution_count": 271,
   "id": "9371bafd-8eef-4aa6-8817-459176633461",
   "metadata": {
    "ExecuteTime": {
     "end_time": "2023-11-07T14:38:29.449982Z",
     "start_time": "2023-11-07T14:38:29.401438Z"
    },
    "scrolled": true
   },
   "outputs": [
    {
     "data": {
      "text/html": [
       "<div>\n",
       "<style scoped>\n",
       "    .dataframe tbody tr th:only-of-type {\n",
       "        vertical-align: middle;\n",
       "    }\n",
       "\n",
       "    .dataframe tbody tr th {\n",
       "        vertical-align: top;\n",
       "    }\n",
       "\n",
       "    .dataframe thead th {\n",
       "        text-align: right;\n",
       "    }\n",
       "</style>\n",
       "<table border=\"1\" class=\"dataframe\">\n",
       "  <thead>\n",
       "    <tr style=\"text-align: right;\">\n",
       "      <th></th>\n",
       "      <th>pid</th>\n",
       "      <th>event</th>\n",
       "      <th>time</th>\n",
       "      <th>num_age</th>\n",
       "      <th>num_wt</th>\n",
       "      <th>num_sbp</th>\n",
       "      <th>num_dbp</th>\n",
       "      <th>num_hg</th>\n",
       "      <th>num_sz</th>\n",
       "      <th>num_sg</th>\n",
       "      <th>num_ap</th>\n",
       "      <th>num_sdate</th>\n",
       "      <th>fac_stage</th>\n",
       "      <th>fac_rx</th>\n",
       "      <th>fac_pf</th>\n",
       "      <th>fac_hx</th>\n",
       "      <th>fac_ekg</th>\n",
       "      <th>fac_bm</th>\n",
       "    </tr>\n",
       "  </thead>\n",
       "  <tbody>\n",
       "    <tr>\n",
       "      <th>0</th>\n",
       "      <td>0</td>\n",
       "      <td>0</td>\n",
       "      <td>72</td>\n",
       "      <td>75.0</td>\n",
       "      <td>76.0</td>\n",
       "      <td>15</td>\n",
       "      <td>9</td>\n",
       "      <td>13.798828</td>\n",
       "      <td>2.0</td>\n",
       "      <td>8.0</td>\n",
       "      <td>0.299988</td>\n",
       "      <td>2778</td>\n",
       "      <td>3</td>\n",
       "      <td>0.2 mg estrogen</td>\n",
       "      <td>normal activity</td>\n",
       "      <td>N</td>\n",
       "      <td>heart strain</td>\n",
       "      <td>N</td>\n",
       "    </tr>\n",
       "    <tr>\n",
       "      <th>2</th>\n",
       "      <td>2</td>\n",
       "      <td>1</td>\n",
       "      <td>40</td>\n",
       "      <td>69.0</td>\n",
       "      <td>102.0</td>\n",
       "      <td>14</td>\n",
       "      <td>8</td>\n",
       "      <td>13.398438</td>\n",
       "      <td>3.0</td>\n",
       "      <td>9.0</td>\n",
       "      <td>0.299988</td>\n",
       "      <td>2933</td>\n",
       "      <td>3</td>\n",
       "      <td>5.0 mg estrogen</td>\n",
       "      <td>normal activity</td>\n",
       "      <td>Y</td>\n",
       "      <td>heart strain</td>\n",
       "      <td>N</td>\n",
       "    </tr>\n",
       "    <tr>\n",
       "      <th>3</th>\n",
       "      <td>3</td>\n",
       "      <td>1</td>\n",
       "      <td>20</td>\n",
       "      <td>75.0</td>\n",
       "      <td>94.0</td>\n",
       "      <td>14</td>\n",
       "      <td>7</td>\n",
       "      <td>17.597656</td>\n",
       "      <td>4.0</td>\n",
       "      <td>8.0</td>\n",
       "      <td>0.899902</td>\n",
       "      <td>2999</td>\n",
       "      <td>3</td>\n",
       "      <td>0.2 mg estrogen</td>\n",
       "      <td>in bed &lt; 50% daytime</td>\n",
       "      <td>Y</td>\n",
       "      <td>benign</td>\n",
       "      <td>N</td>\n",
       "    </tr>\n",
       "    <tr>\n",
       "      <th>4</th>\n",
       "      <td>4</td>\n",
       "      <td>0</td>\n",
       "      <td>65</td>\n",
       "      <td>67.0</td>\n",
       "      <td>99.0</td>\n",
       "      <td>17</td>\n",
       "      <td>10</td>\n",
       "      <td>13.398438</td>\n",
       "      <td>34.0</td>\n",
       "      <td>8.0</td>\n",
       "      <td>0.500000</td>\n",
       "      <td>3002</td>\n",
       "      <td>3</td>\n",
       "      <td>placebo</td>\n",
       "      <td>normal activity</td>\n",
       "      <td>N</td>\n",
       "      <td>normal</td>\n",
       "      <td>N</td>\n",
       "    </tr>\n",
       "    <tr>\n",
       "      <th>5</th>\n",
       "      <td>5</td>\n",
       "      <td>1</td>\n",
       "      <td>24</td>\n",
       "      <td>71.0</td>\n",
       "      <td>98.0</td>\n",
       "      <td>19</td>\n",
       "      <td>10</td>\n",
       "      <td>15.099609</td>\n",
       "      <td>10.0</td>\n",
       "      <td>11.0</td>\n",
       "      <td>0.599976</td>\n",
       "      <td>3086</td>\n",
       "      <td>3</td>\n",
       "      <td>0.2 mg estrogen</td>\n",
       "      <td>normal activity</td>\n",
       "      <td>N</td>\n",
       "      <td>normal</td>\n",
       "      <td>N</td>\n",
       "    </tr>\n",
       "  </tbody>\n",
       "</table>\n",
       "</div>"
      ],
      "text/plain": [
       "   pid  event  time  num_age  num_wt  num_sbp  num_dbp     num_hg  num_sz  \\\n",
       "0    0      0    72     75.0    76.0       15        9  13.798828     2.0   \n",
       "2    2      1    40     69.0   102.0       14        8  13.398438     3.0   \n",
       "3    3      1    20     75.0    94.0       14        7  17.597656     4.0   \n",
       "4    4      0    65     67.0    99.0       17       10  13.398438    34.0   \n",
       "5    5      1    24     71.0    98.0       19       10  15.099609    10.0   \n",
       "\n",
       "   num_sg    num_ap  num_sdate fac_stage           fac_rx  \\\n",
       "0     8.0  0.299988       2778         3  0.2 mg estrogen   \n",
       "2     9.0  0.299988       2933         3  5.0 mg estrogen   \n",
       "3     8.0  0.899902       2999         3  0.2 mg estrogen   \n",
       "4     8.0  0.500000       3002         3          placebo   \n",
       "5    11.0  0.599976       3086         3  0.2 mg estrogen   \n",
       "\n",
       "                 fac_pf fac_hx       fac_ekg fac_bm  \n",
       "0       normal activity      N  heart strain      N  \n",
       "2       normal activity      Y  heart strain      N  \n",
       "3  in bed < 50% daytime      Y        benign      N  \n",
       "4       normal activity      N        normal      N  \n",
       "5       normal activity      N        normal      N  "
      ]
     },
     "execution_count": 271,
     "metadata": {},
     "output_type": "execute_result"
    }
   ],
   "source": [
    "df.head()"
   ]
  },
  {
   "cell_type": "code",
   "execution_count": 272,
   "id": "a6157fc9",
   "metadata": {
    "ExecuteTime": {
     "end_time": "2023-11-07T14:35:05.362295Z",
     "start_time": "2023-11-07T14:35:05.351097Z"
    },
    "collapsed": false,
    "jupyter": {
     "outputs_hidden": false
    }
   },
   "outputs": [
    {
     "data": {
      "text/plain": [
       "array([0, 1], dtype=int64)"
      ]
     },
     "execution_count": 272,
     "metadata": {},
     "output_type": "execute_result"
    }
   ],
   "source": [
    "df.event.unique()"
   ]
  },
  {
   "cell_type": "code",
   "execution_count": 273,
   "id": "8fc0c1b5-da51-4044-9fc3-8fff6abf8ab0",
   "metadata": {},
   "outputs": [
    {
     "data": {
      "text/plain": [
       "1"
      ]
     },
     "execution_count": 273,
     "metadata": {},
     "output_type": "execute_result"
    }
   ],
   "source": [
    "df.pid.value_counts().max()"
   ]
  },
  {
   "cell_type": "code",
   "execution_count": 274,
   "id": "e1302a76-5d08-49ee-997b-985ddc758cd4",
   "metadata": {},
   "outputs": [
    {
     "data": {
      "text/plain": [
       "0"
      ]
     },
     "execution_count": 274,
     "metadata": {},
     "output_type": "execute_result"
    }
   ],
   "source": [
    "df.time.min()"
   ]
  },
  {
   "cell_type": "code",
   "execution_count": 275,
   "id": "8f450f2d-71e6-4a64-b579-6bce00503d32",
   "metadata": {},
   "outputs": [
    {
     "data": {
      "text/plain": [
       "event\n",
       "1    344\n",
       "0    139\n",
       "Name: count, dtype: int64"
      ]
     },
     "execution_count": 275,
     "metadata": {},
     "output_type": "execute_result"
    }
   ],
   "source": [
    "df.event.value_counts()"
   ]
  },
  {
   "cell_type": "code",
   "execution_count": 276,
   "id": "0add22de-c331-4263-9244-5eaf9b7c706a",
   "metadata": {},
   "outputs": [
    {
     "data": {
      "text/plain": [
       "19.25"
      ]
     },
     "execution_count": 276,
     "metadata": {},
     "output_type": "execute_result"
    }
   ],
   "source": [
    "231/12"
   ]
  },
  {
   "cell_type": "code",
   "execution_count": 277,
   "id": "b711eaaf-054b-44dd-be22-f01ad26f6b21",
   "metadata": {},
   "outputs": [
    {
     "data": {
      "text/plain": [
       "76"
      ]
     },
     "execution_count": 277,
     "metadata": {},
     "output_type": "execute_result"
    }
   ],
   "source": [
    "df.time.max()"
   ]
  },
  {
   "cell_type": "code",
   "execution_count": 278,
   "id": "5b7af581-7ffb-424d-8027-abbba0c71d78",
   "metadata": {},
   "outputs": [
    {
     "data": {
      "text/html": [
       "<div>\n",
       "<style scoped>\n",
       "    .dataframe tbody tr th:only-of-type {\n",
       "        vertical-align: middle;\n",
       "    }\n",
       "\n",
       "    .dataframe tbody tr th {\n",
       "        vertical-align: top;\n",
       "    }\n",
       "\n",
       "    .dataframe thead th {\n",
       "        text-align: right;\n",
       "    }\n",
       "</style>\n",
       "<table border=\"1\" class=\"dataframe\">\n",
       "  <thead>\n",
       "    <tr style=\"text-align: right;\">\n",
       "      <th></th>\n",
       "      <th>pid</th>\n",
       "      <th>event</th>\n",
       "      <th>time</th>\n",
       "      <th>num_age</th>\n",
       "      <th>num_wt</th>\n",
       "      <th>num_sbp</th>\n",
       "      <th>num_dbp</th>\n",
       "      <th>num_hg</th>\n",
       "      <th>num_sz</th>\n",
       "      <th>num_sg</th>\n",
       "      <th>num_ap</th>\n",
       "      <th>num_sdate</th>\n",
       "    </tr>\n",
       "  </thead>\n",
       "  <tbody>\n",
       "    <tr>\n",
       "      <th>count</th>\n",
       "      <td>483.000000</td>\n",
       "      <td>483.000000</td>\n",
       "      <td>483.000000</td>\n",
       "      <td>483.000000</td>\n",
       "      <td>483.000000</td>\n",
       "      <td>483.000000</td>\n",
       "      <td>483.000000</td>\n",
       "      <td>483.000000</td>\n",
       "      <td>483.000000</td>\n",
       "      <td>483.000000</td>\n",
       "      <td>483.000000</td>\n",
       "      <td>483.000000</td>\n",
       "    </tr>\n",
       "    <tr>\n",
       "      <th>mean</th>\n",
       "      <td>251.053830</td>\n",
       "      <td>0.712215</td>\n",
       "      <td>35.759834</td>\n",
       "      <td>71.567288</td>\n",
       "      <td>98.954451</td>\n",
       "      <td>14.364389</td>\n",
       "      <td>8.151139</td>\n",
       "      <td>13.421804</td>\n",
       "      <td>14.399586</td>\n",
       "      <td>10.298137</td>\n",
       "      <td>12.492799</td>\n",
       "      <td>3040.687371</td>\n",
       "    </tr>\n",
       "    <tr>\n",
       "      <th>std</th>\n",
       "      <td>143.842487</td>\n",
       "      <td>0.453200</td>\n",
       "      <td>23.187229</td>\n",
       "      <td>6.970085</td>\n",
       "      <td>13.363650</td>\n",
       "      <td>2.440099</td>\n",
       "      <td>1.461801</td>\n",
       "      <td>1.931419</td>\n",
       "      <td>12.273667</td>\n",
       "      <td>2.012960</td>\n",
       "      <td>63.338701</td>\n",
       "      <td>220.990564</td>\n",
       "    </tr>\n",
       "    <tr>\n",
       "      <th>min</th>\n",
       "      <td>0.000000</td>\n",
       "      <td>0.000000</td>\n",
       "      <td>0.000000</td>\n",
       "      <td>48.000000</td>\n",
       "      <td>69.000000</td>\n",
       "      <td>8.000000</td>\n",
       "      <td>4.000000</td>\n",
       "      <td>5.899414</td>\n",
       "      <td>0.000000</td>\n",
       "      <td>5.000000</td>\n",
       "      <td>0.099991</td>\n",
       "      <td>2652.000000</td>\n",
       "    </tr>\n",
       "    <tr>\n",
       "      <th>25%</th>\n",
       "      <td>127.500000</td>\n",
       "      <td>0.000000</td>\n",
       "      <td>14.000000</td>\n",
       "      <td>70.000000</td>\n",
       "      <td>90.000000</td>\n",
       "      <td>13.000000</td>\n",
       "      <td>7.000000</td>\n",
       "      <td>12.249023</td>\n",
       "      <td>5.000000</td>\n",
       "      <td>9.000000</td>\n",
       "      <td>0.500000</td>\n",
       "      <td>2863.000000</td>\n",
       "    </tr>\n",
       "    <tr>\n",
       "      <th>50%</th>\n",
       "      <td>252.000000</td>\n",
       "      <td>1.000000</td>\n",
       "      <td>33.000000</td>\n",
       "      <td>73.000000</td>\n",
       "      <td>98.000000</td>\n",
       "      <td>14.000000</td>\n",
       "      <td>8.000000</td>\n",
       "      <td>13.699219</td>\n",
       "      <td>10.000000</td>\n",
       "      <td>10.000000</td>\n",
       "      <td>0.699951</td>\n",
       "      <td>3022.000000</td>\n",
       "    </tr>\n",
       "    <tr>\n",
       "      <th>75%</th>\n",
       "      <td>374.500000</td>\n",
       "      <td>1.000000</td>\n",
       "      <td>57.000000</td>\n",
       "      <td>76.000000</td>\n",
       "      <td>107.000000</td>\n",
       "      <td>16.000000</td>\n",
       "      <td>9.000000</td>\n",
       "      <td>14.699219</td>\n",
       "      <td>21.000000</td>\n",
       "      <td>11.000000</td>\n",
       "      <td>3.000000</td>\n",
       "      <td>3205.000000</td>\n",
       "    </tr>\n",
       "    <tr>\n",
       "      <th>max</th>\n",
       "      <td>500.000000</td>\n",
       "      <td>1.000000</td>\n",
       "      <td>76.000000</td>\n",
       "      <td>89.000000</td>\n",
       "      <td>152.000000</td>\n",
       "      <td>30.000000</td>\n",
       "      <td>18.000000</td>\n",
       "      <td>18.199219</td>\n",
       "      <td>69.000000</td>\n",
       "      <td>15.000000</td>\n",
       "      <td>999.875000</td>\n",
       "      <td>3465.000000</td>\n",
       "    </tr>\n",
       "  </tbody>\n",
       "</table>\n",
       "</div>"
      ],
      "text/plain": [
       "              pid       event        time     num_age      num_wt     num_sbp  \\\n",
       "count  483.000000  483.000000  483.000000  483.000000  483.000000  483.000000   \n",
       "mean   251.053830    0.712215   35.759834   71.567288   98.954451   14.364389   \n",
       "std    143.842487    0.453200   23.187229    6.970085   13.363650    2.440099   \n",
       "min      0.000000    0.000000    0.000000   48.000000   69.000000    8.000000   \n",
       "25%    127.500000    0.000000   14.000000   70.000000   90.000000   13.000000   \n",
       "50%    252.000000    1.000000   33.000000   73.000000   98.000000   14.000000   \n",
       "75%    374.500000    1.000000   57.000000   76.000000  107.000000   16.000000   \n",
       "max    500.000000    1.000000   76.000000   89.000000  152.000000   30.000000   \n",
       "\n",
       "          num_dbp      num_hg      num_sz      num_sg      num_ap    num_sdate  \n",
       "count  483.000000  483.000000  483.000000  483.000000  483.000000   483.000000  \n",
       "mean     8.151139   13.421804   14.399586   10.298137   12.492799  3040.687371  \n",
       "std      1.461801    1.931419   12.273667    2.012960   63.338701   220.990564  \n",
       "min      4.000000    5.899414    0.000000    5.000000    0.099991  2652.000000  \n",
       "25%      7.000000   12.249023    5.000000    9.000000    0.500000  2863.000000  \n",
       "50%      8.000000   13.699219   10.000000   10.000000    0.699951  3022.000000  \n",
       "75%      9.000000   14.699219   21.000000   11.000000    3.000000  3205.000000  \n",
       "max     18.000000   18.199219   69.000000   15.000000  999.875000  3465.000000  "
      ]
     },
     "execution_count": 278,
     "metadata": {},
     "output_type": "execute_result"
    }
   ],
   "source": [
    "df.describe()"
   ]
  },
  {
   "cell_type": "code",
   "execution_count": null,
   "id": "7851fad1-bdb0-406c-a20b-693dea551400",
   "metadata": {},
   "outputs": [],
   "source": []
  }
 ],
 "metadata": {
  "kernelspec": {
   "display_name": "survival",
   "language": "python",
   "name": "survival"
  },
  "language_info": {
   "codemirror_mode": {
    "name": "ipython",
    "version": 3
   },
   "file_extension": ".py",
   "mimetype": "text/x-python",
   "name": "python",
   "nbconvert_exporter": "python",
   "pygments_lexer": "ipython3",
   "version": "3.10.13"
  }
 },
 "nbformat": 4,
 "nbformat_minor": 5
}
