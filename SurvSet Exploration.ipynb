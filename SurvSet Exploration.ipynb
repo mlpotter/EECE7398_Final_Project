{
 "cells": [
  {
   "cell_type": "markdown",
   "id": "a2c2a05e-aad0-4a9a-b16b-4241ba03cabc",
   "metadata": {},
   "source": [
    "* SurvSet Information may be found [here](https://github.com/ErikinBC/SurvSet)\n",
    "* Paper may be found [here](https://arxiv.org/pdf/2203.03094.pdf)"
   ]
  },
  {
   "cell_type": "code",
   "execution_count": 2,
   "id": "868c50bd-4479-4cbf-93df-06ca524ba84d",
   "metadata": {
    "ExecuteTime": {
     "start_time": "2023-11-04T12:31:16.760850Z",
     "end_time": "2023-11-04T12:31:17.719565Z"
    }
   },
   "outputs": [],
   "source": [
    "from SurvSet.data import SurvLoader\n",
    "import pandas as pd\n",
    "\n",
    "pd.set_option('display.max_rows', 100)"
   ]
  },
  {
   "cell_type": "code",
   "execution_count": 3,
   "id": "fdd76390-095d-4d43-a09e-6f0d60553568",
   "metadata": {
    "ExecuteTime": {
     "start_time": "2023-11-04T12:31:17.727077Z",
     "end_time": "2023-11-04T12:31:17.756720Z"
    }
   },
   "outputs": [],
   "source": [
    "loader = SurvLoader()"
   ]
  },
  {
   "cell_type": "code",
   "execution_count": 4,
   "id": "d7ac56ad-7dcc-4c62-ba36-ed6263e27b12",
   "metadata": {
    "ExecuteTime": {
     "start_time": "2023-11-04T12:31:17.940003Z",
     "end_time": "2023-11-04T12:31:17.957006Z"
    }
   },
   "outputs": [
    {
     "name": "stdout",
     "output_type": "stream",
     "text": [
      "                  ds  is_td      n  n_fac  n_ohe  n_num\n",
      "0             hdfail  False  52422      5     87      1\n",
      "1             stagec  False    146      4     15      3\n",
      "2            veteran  False    137      3      5      3\n",
      "3                vdv  False     78      0      0   4705\n",
      "4           AML_Bull  False    116      0      0   6283\n",
      "5           LeukSurv  False   1043      2     24      5\n",
      "6               zinc  False    431     11     18      2\n",
      "7               burn  False    154     10     12      1\n",
      "8           UnempDur  False   3241      1      1      5\n",
      "9              nwtco  False   4028      5      7      2\n",
      "10             rott2  False   2982      6      7      5\n",
      "12           gse1992  False    124      4     11  15530\n",
      "13             FRTCS  False    697      4      4      9\n",
      "14              cost  False    518     10     10      3\n",
      "15             rdata  False   1040      2      4      2\n",
      "16             Aids2  False   2839      3     11      1\n",
      "17           divorce  False   3371      3      4      0\n",
      "18     micro.censure  False    117     39     80      1\n",
      "19               cgd  False    128      7     20      3\n",
      "20   pharmacoSmoking  False    125      7     12      4\n",
      "21              Z243  False    100      5     19      4\n",
      "22             NSBCD  False    115      0      0    549\n",
      "23               uis  False    628      5     11      3\n",
      "24          Dialysis  False   6805      2     70      2\n",
      "25             nki70  False    144      4      5     71\n",
      "26          Melanoma  False    205      2      2      3\n",
      "27            cancer  False    228      3     23      5\n",
      "29             TRACE  False   1878      4      4      2\n",
      "30           gse4335  False    115      6     20  12795\n",
      "31               ova  False    358      3      9      2\n",
      "32        MCLcleaned  False     92      0      0    574\n",
      "33            smarto  False   3873      9     17     17\n",
      "34          support2  False   9105     11     41     24\n",
      "35              vlbw  False    617     15     34      7\n",
      "36               pbc  False    312      5      5      1\n",
      "37             DLBCL  False    240      0      0   7399\n",
      "38         phpl04K8a  False    442      1      1     20\n",
      "39        dataDIVAT3  False   4267      4     13      3\n",
      "40        dataDIVAT2  False   1837      3      3      1\n",
      "41              wpbc  False    198      0      0     32\n",
      "42             GBSG2  False    686      3      4      5\n",
      "43  prostateSurvival  False  14294      3      6      0\n",
      "44        dataDIVAT1  False   5943      3     14      2\n",
      "45             e1684  False    284      2      2      1\n",
      "46             acath  False   3504      1      1      2\n",
      "47        Framingham  False   4699      2     12      5\n",
      "48             colon  False    929      7     10      2\n",
      "49            follic  False    541      3      2      2\n",
      "50              mgus  False    241      2      5      7\n",
      "51      d.oropha.rec  False    192      8     20      4\n",
      "52              actg  False   1151      7     13      4\n",
      "53      dataOvarian1  False    912      2      4    158\n",
      "54    hepatoCellular  False    227     13     13     30\n",
      "55           ovarian  False     26      3      3      1\n",
      "56       retinopathy  False    394      5      9      2\n",
      "57              Pbc3  False    349      5     12      7\n",
      "60           whas500  False    461      9     10      7\n",
      "61              DBCD  False    295      0      0   4919\n",
      "62          diabetes  False    394      3      3      1\n",
      "64            glioma  False     37      3      3      1\n",
      "66              chop  False    414      0      0   3833\n",
      "67      Unemployment  False    452      5      7      0\n",
      "68            breast  False    100      4      4      0\n",
      "70       Bergamaschi  False     82      0      0     10\n",
      "71          prostate  False    502      6     16      9\n",
      "72           flchain  False   7874      4     26      6\n",
      "73             grace  False   1000      2      2      3\n",
      "74           gse3143  False    158      1      3   8660\n",
      "75            scania  False   1931      4      7      1\n"
     ]
    }
   ],
   "source": [
    "print(loader.df_ds[~loader.df_ds.is_td])"
   ]
  },
  {
   "cell_type": "code",
   "execution_count": 5,
   "id": "21e02078-b60b-48fc-b27b-9f3e8ebe4269",
   "metadata": {
    "ExecuteTime": {
     "start_time": "2023-11-04T12:31:18.398069Z",
     "end_time": "2023-11-04T12:31:18.430899Z"
    }
   },
   "outputs": [],
   "source": [
    "df,ref =loader.load_dataset(ds_name=\"ova\").values()"
   ]
  },
  {
   "cell_type": "code",
   "execution_count": 6,
   "id": "9232fcb8-f9e2-4dbb-a3d7-60b6f7527b21",
   "metadata": {
    "ExecuteTime": {
     "start_time": "2023-11-04T12:31:18.972355Z",
     "end_time": "2023-11-04T12:31:18.995356Z"
    }
   },
   "outputs": [
    {
     "data": {
      "text/plain": "'https://rdrr.io/cran/CoxRidge/man/ova.html'"
     },
     "execution_count": 6,
     "metadata": {},
     "output_type": "execute_result"
    }
   ],
   "source": [
    "ref"
   ]
  },
  {
   "cell_type": "code",
   "execution_count": 7,
   "id": "9371bafd-8eef-4aa6-8817-459176633461",
   "metadata": {
    "scrolled": true,
    "ExecuteTime": {
     "start_time": "2023-11-04T12:31:19.352234Z",
     "end_time": "2023-11-04T12:31:19.384273Z"
    }
   },
   "outputs": [
    {
     "data": {
      "text/plain": "   pid  event  time  num_karn  num_diam fac_karn fac_diam fac_figo\n0    1      1     7         1         3        1        3        1\n1    2      1     8         2         2        2        2        1\n2    3      1     9         4         4        4        4        1\n3    4      1    10         4         4        4        4        1\n4    5      1    13         2         4        2        4        1",
      "text/html": "<div>\n<style scoped>\n    .dataframe tbody tr th:only-of-type {\n        vertical-align: middle;\n    }\n\n    .dataframe tbody tr th {\n        vertical-align: top;\n    }\n\n    .dataframe thead th {\n        text-align: right;\n    }\n</style>\n<table border=\"1\" class=\"dataframe\">\n  <thead>\n    <tr style=\"text-align: right;\">\n      <th></th>\n      <th>pid</th>\n      <th>event</th>\n      <th>time</th>\n      <th>num_karn</th>\n      <th>num_diam</th>\n      <th>fac_karn</th>\n      <th>fac_diam</th>\n      <th>fac_figo</th>\n    </tr>\n  </thead>\n  <tbody>\n    <tr>\n      <th>0</th>\n      <td>1</td>\n      <td>1</td>\n      <td>7</td>\n      <td>1</td>\n      <td>3</td>\n      <td>1</td>\n      <td>3</td>\n      <td>1</td>\n    </tr>\n    <tr>\n      <th>1</th>\n      <td>2</td>\n      <td>1</td>\n      <td>8</td>\n      <td>2</td>\n      <td>2</td>\n      <td>2</td>\n      <td>2</td>\n      <td>1</td>\n    </tr>\n    <tr>\n      <th>2</th>\n      <td>3</td>\n      <td>1</td>\n      <td>9</td>\n      <td>4</td>\n      <td>4</td>\n      <td>4</td>\n      <td>4</td>\n      <td>1</td>\n    </tr>\n    <tr>\n      <th>3</th>\n      <td>4</td>\n      <td>1</td>\n      <td>10</td>\n      <td>4</td>\n      <td>4</td>\n      <td>4</td>\n      <td>4</td>\n      <td>1</td>\n    </tr>\n    <tr>\n      <th>4</th>\n      <td>5</td>\n      <td>1</td>\n      <td>13</td>\n      <td>2</td>\n      <td>4</td>\n      <td>2</td>\n      <td>4</td>\n      <td>1</td>\n    </tr>\n  </tbody>\n</table>\n</div>"
     },
     "execution_count": 7,
     "metadata": {},
     "output_type": "execute_result"
    }
   ],
   "source": [
    "df.head()"
   ]
  },
  {
   "cell_type": "code",
   "execution_count": 9,
   "outputs": [
    {
     "data": {
      "text/plain": "array([1, 0], dtype=int64)"
     },
     "execution_count": 9,
     "metadata": {},
     "output_type": "execute_result"
    }
   ],
   "source": [
    "df.event.unique()"
   ],
   "metadata": {
    "collapsed": false,
    "ExecuteTime": {
     "start_time": "2023-11-04T12:31:24.678319Z",
     "end_time": "2023-11-04T12:31:24.696320Z"
    }
   }
  },
  {
   "cell_type": "code",
   "execution_count": 36,
   "id": "8fc0c1b5-da51-4044-9fc3-8fff6abf8ab0",
   "metadata": {},
   "outputs": [
    {
     "data": {
      "text/plain": [
       "1"
      ]
     },
     "execution_count": 36,
     "metadata": {},
     "output_type": "execute_result"
    }
   ],
   "source": [
    "df.pid.value_counts().max()"
   ]
  }
 ],
 "metadata": {
  "kernelspec": {
   "display_name": "survival",
   "language": "python",
   "name": "survival"
  },
  "language_info": {
   "codemirror_mode": {
    "name": "ipython",
    "version": 3
   },
   "file_extension": ".py",
   "mimetype": "text/x-python",
   "name": "python",
   "nbconvert_exporter": "python",
   "pygments_lexer": "ipython3",
   "version": "3.10.13"
  }
 },
 "nbformat": 4,
 "nbformat_minor": 5
}
