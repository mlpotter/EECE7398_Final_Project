{
 "cells": [
  {
   "cell_type": "markdown",
   "id": "a2c2a05e-aad0-4a9a-b16b-4241ba03cabc",
   "metadata": {},
   "source": [
    "* SurvSet Information may be found [here](https://github.com/ErikinBC/SurvSet)\n",
    "* Paper may be found [here](https://arxiv.org/pdf/2203.03094.pdf)"
   ]
  },
  {
   "cell_type": "code",
   "execution_count": 1,
   "id": "868c50bd-4479-4cbf-93df-06ca524ba84d",
   "metadata": {
    "ExecuteTime": {
     "end_time": "2023-11-07T14:35:03.600568Z",
     "start_time": "2023-11-07T14:35:02.834970Z"
    }
   },
   "outputs": [],
   "source": [
    "from SurvSet.data import SurvLoader\n",
    "import pandas as pd\n",
    "\n",
    "pd.set_option('display.max_rows', 100)"
   ]
  },
  {
   "cell_type": "code",
   "execution_count": 2,
   "id": "fdd76390-095d-4d43-a09e-6f0d60553568",
   "metadata": {
    "ExecuteTime": {
     "end_time": "2023-11-07T14:35:03.629920Z",
     "start_time": "2023-11-07T14:35:03.606485Z"
    }
   },
   "outputs": [],
   "source": [
    "loader = SurvLoader()"
   ]
  },
  {
   "cell_type": "code",
   "execution_count": 3,
   "id": "d7ac56ad-7dcc-4c62-ba36-ed6263e27b12",
   "metadata": {
    "ExecuteTime": {
     "end_time": "2023-11-07T14:35:03.693296Z",
     "start_time": "2023-11-07T14:35:03.643337Z"
    }
   },
   "outputs": [
    {
     "name": "stdout",
     "output_type": "stream",
     "text": [
      "                  ds  is_td      n  n_fac  n_ohe  n_num\n",
      "0             hdfail  False  52422      5     87      1\n",
      "1             stagec  False    146      4     15      3\n",
      "2            veteran  False    137      3      5      3\n",
      "3                vdv  False     78      0      0   4705\n",
      "4           AML_Bull  False    116      0      0   6283\n",
      "5           LeukSurv  False   1043      2     24      5\n",
      "6               zinc  False    431     11     18      2\n",
      "7               burn  False    154     10     12      1\n",
      "8           UnempDur  False   3241      1      1      5\n",
      "9              nwtco  False   4028      5      7      2\n",
      "10             rott2  False   2982      6      7      5\n",
      "12           gse1992  False    124      4     11  15530\n",
      "13             FRTCS  False    697      4      4      9\n",
      "14              cost  False    518     10     10      3\n",
      "15             rdata  False   1040      2      4      2\n",
      "16             Aids2  False   2839      3     11      1\n",
      "17           divorce  False   3371      3      4      0\n",
      "18     micro.censure  False    117     39     80      1\n",
      "19               cgd  False    128      7     20      3\n",
      "20   pharmacoSmoking  False    125      7     12      4\n",
      "21              Z243  False    100      5     19      4\n",
      "22             NSBCD  False    115      0      0    549\n",
      "23               uis  False    628      5     11      3\n",
      "24          Dialysis  False   6805      2     70      2\n",
      "25             nki70  False    144      4      5     71\n",
      "26          Melanoma  False    205      2      2      3\n",
      "27            cancer  False    228      3     23      5\n",
      "29             TRACE  False   1878      4      4      2\n",
      "30           gse4335  False    115      6     20  12795\n",
      "31               ova  False    358      3      9      2\n",
      "32        MCLcleaned  False     92      0      0    574\n",
      "33            smarto  False   3873      9     17     17\n",
      "34          support2  False   9105     11     41     24\n",
      "35              vlbw  False    617     15     34      7\n",
      "36               pbc  False    312      5      5      1\n",
      "37             DLBCL  False    240      0      0   7399\n",
      "38         phpl04K8a  False    442      1      1     20\n",
      "39        dataDIVAT3  False   4267      4     13      3\n",
      "40        dataDIVAT2  False   1837      3      3      1\n",
      "41              wpbc  False    198      0      0     32\n",
      "42             GBSG2  False    686      3      4      5\n",
      "43  prostateSurvival  False  14294      3      6      0\n",
      "44        dataDIVAT1  False   5943      3     14      2\n",
      "45             e1684  False    284      2      2      1\n",
      "46             acath  False   3504      1      1      2\n",
      "47        Framingham  False   4699      2     12      5\n",
      "48             colon  False    929      7     10      2\n",
      "49            follic  False    541      3      2      2\n",
      "50              mgus  False    241      2      5      7\n",
      "51      d.oropha.rec  False    192      8     20      4\n",
      "52              actg  False   1151      7     13      4\n",
      "53      dataOvarian1  False    912      2      4    158\n",
      "54    hepatoCellular  False    227     13     13     30\n",
      "55           ovarian  False     26      3      3      1\n",
      "56       retinopathy  False    394      5      9      2\n",
      "57              Pbc3  False    349      5     12      7\n",
      "60           whas500  False    461      9     10      7\n",
      "61              DBCD  False    295      0      0   4919\n",
      "62          diabetes  False    394      3      3      1\n",
      "64            glioma  False     37      3      3      1\n",
      "66              chop  False    414      0      0   3833\n",
      "67      Unemployment  False    452      5      7      0\n",
      "68            breast  False    100      4      4      0\n",
      "70       Bergamaschi  False     82      0      0     10\n",
      "71          prostate  False    502      6     16      9\n",
      "72           flchain  False   7874      4     26      6\n",
      "73             grace  False   1000      2      2      3\n",
      "74           gse3143  False    158      1      3   8660\n",
      "75            scania  False   1931      4      7      1\n"
     ]
    }
   ],
   "source": [
    "print(loader.df_ds[~loader.df_ds.is_td])"
   ]
  },
  {
   "cell_type": "code",
   "execution_count": 178,
   "id": "21e02078-b60b-48fc-b27b-9f3e8ebe4269",
   "metadata": {
    "ExecuteTime": {
     "end_time": "2023-11-07T14:38:29.036803Z",
     "start_time": "2023-11-07T14:38:29.020912Z"
    }
   },
   "outputs": [],
   "source": [
    "df,ref = loader.load_dataset(ds_name=\"rott2\").values()"
   ]
  },
  {
   "cell_type": "code",
   "execution_count": 179,
   "id": "9232fcb8-f9e2-4dbb-a3d7-60b6f7527b21",
   "metadata": {
    "ExecuteTime": {
     "end_time": "2023-11-07T14:38:29.262075Z",
     "start_time": "2023-11-07T14:38:29.218771Z"
    }
   },
   "outputs": [
    {
     "data": {
      "text/plain": [
       "'https://rdrr.io/cran/AF/man/rott2.html'"
      ]
     },
     "execution_count": 179,
     "metadata": {},
     "output_type": "execute_result"
    }
   ],
   "source": [
    "ref"
   ]
  },
  {
   "cell_type": "code",
   "execution_count": 180,
   "id": "f6e5c1c4-3492-4de6-9e71-0d461cd13322",
   "metadata": {},
   "outputs": [
    {
     "name": "stdout",
     "output_type": "stream",
     "text": [
      "<class 'pandas.core.frame.DataFrame'>\n",
      "RangeIndex: 2982 entries, 0 to 2981\n",
      "Data columns (total 14 columns):\n",
      " #   Column            Non-Null Count  Dtype  \n",
      "---  ------            --------------  -----  \n",
      " 0   pid               2982 non-null   int64  \n",
      " 1   event             2982 non-null   int64  \n",
      " 2   time              2982 non-null   float64\n",
      " 3   num_year          2982 non-null   int64  \n",
      " 4   num_age           2982 non-null   int64  \n",
      " 5   num_nodes         2982 non-null   int64  \n",
      " 6   num_progesterone  2982 non-null   int64  \n",
      " 7   num_estrogen      2982 non-null   int64  \n",
      " 8   fac_meno          2982 non-null   object \n",
      " 9   fac_tsize         2982 non-null   object \n",
      " 10  fac_grade         2982 non-null   object \n",
      " 11  fac_hormon        2982 non-null   object \n",
      " 12  fac_chemo         2982 non-null   object \n",
      " 13  fac_recent        2982 non-null   object \n",
      "dtypes: float64(1), int64(7), object(6)\n",
      "memory usage: 326.3+ KB\n"
     ]
    }
   ],
   "source": [
    "df.info()"
   ]
  },
  {
   "cell_type": "code",
   "execution_count": 181,
   "id": "da2e55fe-23b8-4f42-a566-ae20fa97d1f0",
   "metadata": {},
   "outputs": [
    {
     "data": {
      "text/plain": [
       "(2982, 14)"
      ]
     },
     "execution_count": 181,
     "metadata": {},
     "output_type": "execute_result"
    }
   ],
   "source": [
    "df.shape"
   ]
  },
  {
   "cell_type": "code",
   "execution_count": 182,
   "id": "e2d0d246-a61d-4591-95a8-05ebf83f000f",
   "metadata": {},
   "outputs": [
    {
     "data": {
      "text/plain": [
       "(2982, 14)"
      ]
     },
     "execution_count": 182,
     "metadata": {},
     "output_type": "execute_result"
    }
   ],
   "source": [
    "df.dropna(axis=0,inplace=True)\n",
    "df.shape"
   ]
  },
  {
   "cell_type": "code",
   "execution_count": 183,
   "id": "178efe6a-31af-48a7-9612-2c8481b28f4b",
   "metadata": {},
   "outputs": [
    {
     "name": "stdout",
     "output_type": "stream",
     "text": [
      "<class 'pandas.core.frame.DataFrame'>\n",
      "RangeIndex: 2982 entries, 0 to 2981\n",
      "Data columns (total 14 columns):\n",
      " #   Column            Non-Null Count  Dtype  \n",
      "---  ------            --------------  -----  \n",
      " 0   pid               2982 non-null   int64  \n",
      " 1   event             2982 non-null   int64  \n",
      " 2   time              2982 non-null   float64\n",
      " 3   num_year          2982 non-null   int64  \n",
      " 4   num_age           2982 non-null   int64  \n",
      " 5   num_nodes         2982 non-null   int64  \n",
      " 6   num_progesterone  2982 non-null   int64  \n",
      " 7   num_estrogen      2982 non-null   int64  \n",
      " 8   fac_meno          2982 non-null   object \n",
      " 9   fac_tsize         2982 non-null   object \n",
      " 10  fac_grade         2982 non-null   object \n",
      " 11  fac_hormon        2982 non-null   object \n",
      " 12  fac_chemo         2982 non-null   object \n",
      " 13  fac_recent        2982 non-null   object \n",
      "dtypes: float64(1), int64(7), object(6)\n",
      "memory usage: 326.3+ KB\n"
     ]
    }
   ],
   "source": [
    "df.info()"
   ]
  },
  {
   "cell_type": "code",
   "execution_count": 184,
   "id": "9371bafd-8eef-4aa6-8817-459176633461",
   "metadata": {
    "ExecuteTime": {
     "end_time": "2023-11-07T14:38:29.449982Z",
     "start_time": "2023-11-07T14:38:29.401438Z"
    },
    "scrolled": true
   },
   "outputs": [
    {
     "data": {
      "text/html": [
       "<div>\n",
       "<style scoped>\n",
       "    .dataframe tbody tr th:only-of-type {\n",
       "        vertical-align: middle;\n",
       "    }\n",
       "\n",
       "    .dataframe tbody tr th {\n",
       "        vertical-align: top;\n",
       "    }\n",
       "\n",
       "    .dataframe thead th {\n",
       "        text-align: right;\n",
       "    }\n",
       "</style>\n",
       "<table border=\"1\" class=\"dataframe\">\n",
       "  <thead>\n",
       "    <tr style=\"text-align: right;\">\n",
       "      <th></th>\n",
       "      <th>pid</th>\n",
       "      <th>event</th>\n",
       "      <th>time</th>\n",
       "      <th>num_year</th>\n",
       "      <th>num_age</th>\n",
       "      <th>num_nodes</th>\n",
       "      <th>num_progesterone</th>\n",
       "      <th>num_estrogen</th>\n",
       "      <th>fac_meno</th>\n",
       "      <th>fac_tsize</th>\n",
       "      <th>fac_grade</th>\n",
       "      <th>fac_hormon</th>\n",
       "      <th>fac_chemo</th>\n",
       "      <th>fac_recent</th>\n",
       "    </tr>\n",
       "  </thead>\n",
       "  <tbody>\n",
       "    <tr>\n",
       "      <th>0</th>\n",
       "      <td>1264</td>\n",
       "      <td>0</td>\n",
       "      <td>155.66324</td>\n",
       "      <td>1986</td>\n",
       "      <td>54</td>\n",
       "      <td>0</td>\n",
       "      <td>1360</td>\n",
       "      <td>149</td>\n",
       "      <td>post</td>\n",
       "      <td>&lt;=20mm</td>\n",
       "      <td>2</td>\n",
       "      <td>no</td>\n",
       "      <td>no</td>\n",
       "      <td>1978-1987</td>\n",
       "    </tr>\n",
       "    <tr>\n",
       "      <th>1</th>\n",
       "      <td>1150</td>\n",
       "      <td>0</td>\n",
       "      <td>105.39630</td>\n",
       "      <td>1990</td>\n",
       "      <td>55</td>\n",
       "      <td>0</td>\n",
       "      <td>763</td>\n",
       "      <td>763</td>\n",
       "      <td>post</td>\n",
       "      <td>&gt;20-50mmm</td>\n",
       "      <td>2</td>\n",
       "      <td>no</td>\n",
       "      <td>no</td>\n",
       "      <td>1988-1993</td>\n",
       "    </tr>\n",
       "    <tr>\n",
       "      <th>2</th>\n",
       "      <td>838</td>\n",
       "      <td>0</td>\n",
       "      <td>112.95277</td>\n",
       "      <td>1988</td>\n",
       "      <td>34</td>\n",
       "      <td>0</td>\n",
       "      <td>113</td>\n",
       "      <td>109</td>\n",
       "      <td>pre</td>\n",
       "      <td>&lt;=20mm</td>\n",
       "      <td>2</td>\n",
       "      <td>no</td>\n",
       "      <td>no</td>\n",
       "      <td>1988-1993</td>\n",
       "    </tr>\n",
       "    <tr>\n",
       "      <th>3</th>\n",
       "      <td>1214</td>\n",
       "      <td>0</td>\n",
       "      <td>125.66735</td>\n",
       "      <td>1990</td>\n",
       "      <td>42</td>\n",
       "      <td>0</td>\n",
       "      <td>465</td>\n",
       "      <td>79</td>\n",
       "      <td>post</td>\n",
       "      <td>&lt;=20mm</td>\n",
       "      <td>2</td>\n",
       "      <td>no</td>\n",
       "      <td>no</td>\n",
       "      <td>1988-1993</td>\n",
       "    </tr>\n",
       "    <tr>\n",
       "      <th>4</th>\n",
       "      <td>1130</td>\n",
       "      <td>0</td>\n",
       "      <td>124.22176</td>\n",
       "      <td>1989</td>\n",
       "      <td>35</td>\n",
       "      <td>0</td>\n",
       "      <td>82</td>\n",
       "      <td>25</td>\n",
       "      <td>pre</td>\n",
       "      <td>&lt;=20mm</td>\n",
       "      <td>2</td>\n",
       "      <td>no</td>\n",
       "      <td>no</td>\n",
       "      <td>1988-1993</td>\n",
       "    </tr>\n",
       "  </tbody>\n",
       "</table>\n",
       "</div>"
      ],
      "text/plain": [
       "    pid  event       time  num_year  num_age  num_nodes  num_progesterone  \\\n",
       "0  1264      0  155.66324      1986       54          0              1360   \n",
       "1  1150      0  105.39630      1990       55          0               763   \n",
       "2   838      0  112.95277      1988       34          0               113   \n",
       "3  1214      0  125.66735      1990       42          0               465   \n",
       "4  1130      0  124.22176      1989       35          0                82   \n",
       "\n",
       "   num_estrogen fac_meno  fac_tsize fac_grade fac_hormon fac_chemo fac_recent  \n",
       "0           149     post     <=20mm         2         no        no  1978-1987  \n",
       "1           763     post  >20-50mmm         2         no        no  1988-1993  \n",
       "2           109      pre     <=20mm         2         no        no  1988-1993  \n",
       "3            79     post     <=20mm         2         no        no  1988-1993  \n",
       "4            25      pre     <=20mm         2         no        no  1988-1993  "
      ]
     },
     "execution_count": 184,
     "metadata": {},
     "output_type": "execute_result"
    }
   ],
   "source": [
    "df.head()"
   ]
  },
  {
   "cell_type": "code",
   "execution_count": 185,
   "id": "a6157fc9",
   "metadata": {
    "ExecuteTime": {
     "end_time": "2023-11-07T14:35:05.362295Z",
     "start_time": "2023-11-07T14:35:05.351097Z"
    },
    "collapsed": false,
    "jupyter": {
     "outputs_hidden": false
    }
   },
   "outputs": [
    {
     "data": {
      "text/plain": [
       "array([0, 1], dtype=int64)"
      ]
     },
     "execution_count": 185,
     "metadata": {},
     "output_type": "execute_result"
    }
   ],
   "source": [
    "df.event.unique()"
   ]
  },
  {
   "cell_type": "code",
   "execution_count": 186,
   "id": "8fc0c1b5-da51-4044-9fc3-8fff6abf8ab0",
   "metadata": {},
   "outputs": [
    {
     "data": {
      "text/plain": [
       "1"
      ]
     },
     "execution_count": 186,
     "metadata": {},
     "output_type": "execute_result"
    }
   ],
   "source": [
    "df.pid.value_counts().max()"
   ]
  },
  {
   "cell_type": "code",
   "execution_count": 187,
   "id": "e1302a76-5d08-49ee-997b-985ddc758cd4",
   "metadata": {},
   "outputs": [
    {
     "data": {
      "text/plain": [
       "1.1827515"
      ]
     },
     "execution_count": 187,
     "metadata": {},
     "output_type": "execute_result"
    }
   ],
   "source": [
    "df.time.min()"
   ]
  },
  {
   "cell_type": "code",
   "execution_count": 188,
   "id": "8f450f2d-71e6-4a64-b579-6bce00503d32",
   "metadata": {},
   "outputs": [
    {
     "data": {
      "text/plain": [
       "event\n",
       "0    1710\n",
       "1    1272\n",
       "Name: count, dtype: int64"
      ]
     },
     "execution_count": 188,
     "metadata": {},
     "output_type": "execute_result"
    }
   ],
   "source": [
    "df.event.value_counts()"
   ]
  },
  {
   "cell_type": "code",
   "execution_count": 193,
   "id": "bf5304d0-f03e-4c50-9a77-d2209ef79b4e",
   "metadata": {},
   "outputs": [
    {
     "data": {
      "text/plain": [
       "15"
      ]
     },
     "execution_count": 193,
     "metadata": {},
     "output_type": "execute_result"
    }
   ],
   "source": [
    "1993 - 1978"
   ]
  },
  {
   "cell_type": "code",
   "execution_count": 192,
   "id": "0add22de-c331-4263-9244-5eaf9b7c706a",
   "metadata": {},
   "outputs": [
    {
     "data": {
      "text/plain": [
       "19.25"
      ]
     },
     "execution_count": 192,
     "metadata": {},
     "output_type": "execute_result"
    }
   ],
   "source": [
    "231/12"
   ]
  },
  {
   "cell_type": "code",
   "execution_count": 191,
   "id": "b711eaaf-054b-44dd-be22-f01ad26f6b21",
   "metadata": {},
   "outputs": [
    {
     "data": {
      "text/plain": [
       "231.3922"
      ]
     },
     "execution_count": 191,
     "metadata": {},
     "output_type": "execute_result"
    }
   ],
   "source": [
    "df.time.max()"
   ]
  },
  {
   "cell_type": "code",
   "execution_count": 189,
   "id": "5b7af581-7ffb-424d-8027-abbba0c71d78",
   "metadata": {},
   "outputs": [
    {
     "data": {
      "text/html": [
       "<div>\n",
       "<style scoped>\n",
       "    .dataframe tbody tr th:only-of-type {\n",
       "        vertical-align: middle;\n",
       "    }\n",
       "\n",
       "    .dataframe tbody tr th {\n",
       "        vertical-align: top;\n",
       "    }\n",
       "\n",
       "    .dataframe thead th {\n",
       "        text-align: right;\n",
       "    }\n",
       "</style>\n",
       "<table border=\"1\" class=\"dataframe\">\n",
       "  <thead>\n",
       "    <tr style=\"text-align: right;\">\n",
       "      <th></th>\n",
       "      <th>pid</th>\n",
       "      <th>event</th>\n",
       "      <th>time</th>\n",
       "      <th>num_year</th>\n",
       "      <th>num_age</th>\n",
       "      <th>num_nodes</th>\n",
       "      <th>num_progesterone</th>\n",
       "      <th>num_estrogen</th>\n",
       "    </tr>\n",
       "  </thead>\n",
       "  <tbody>\n",
       "    <tr>\n",
       "      <th>count</th>\n",
       "      <td>2982.000000</td>\n",
       "      <td>2982.000000</td>\n",
       "      <td>2982.000000</td>\n",
       "      <td>2982.000000</td>\n",
       "      <td>2982.000000</td>\n",
       "      <td>2982.000000</td>\n",
       "      <td>2982.000000</td>\n",
       "      <td>2982.000000</td>\n",
       "    </tr>\n",
       "    <tr>\n",
       "      <th>mean</th>\n",
       "      <td>1504.954728</td>\n",
       "      <td>0.426559</td>\n",
       "      <td>85.596387</td>\n",
       "      <td>1988.161301</td>\n",
       "      <td>55.058350</td>\n",
       "      <td>2.712274</td>\n",
       "      <td>161.831321</td>\n",
       "      <td>166.589537</td>\n",
       "    </tr>\n",
       "    <tr>\n",
       "      <th>std</th>\n",
       "      <td>868.394910</td>\n",
       "      <td>0.494660</td>\n",
       "      <td>42.647312</td>\n",
       "      <td>3.035484</td>\n",
       "      <td>12.952988</td>\n",
       "      <td>4.383844</td>\n",
       "      <td>291.311076</td>\n",
       "      <td>272.465486</td>\n",
       "    </tr>\n",
       "    <tr>\n",
       "      <th>min</th>\n",
       "      <td>1.000000</td>\n",
       "      <td>0.000000</td>\n",
       "      <td>1.182751</td>\n",
       "      <td>1978.000000</td>\n",
       "      <td>24.000000</td>\n",
       "      <td>0.000000</td>\n",
       "      <td>0.000000</td>\n",
       "      <td>0.000000</td>\n",
       "    </tr>\n",
       "    <tr>\n",
       "      <th>25%</th>\n",
       "      <td>753.250000</td>\n",
       "      <td>0.000000</td>\n",
       "      <td>52.796715</td>\n",
       "      <td>1986.000000</td>\n",
       "      <td>45.000000</td>\n",
       "      <td>0.000000</td>\n",
       "      <td>4.000000</td>\n",
       "      <td>11.000000</td>\n",
       "    </tr>\n",
       "    <tr>\n",
       "      <th>50%</th>\n",
       "      <td>1504.500000</td>\n",
       "      <td>0.000000</td>\n",
       "      <td>86.685829</td>\n",
       "      <td>1988.000000</td>\n",
       "      <td>54.000000</td>\n",
       "      <td>1.000000</td>\n",
       "      <td>41.000000</td>\n",
       "      <td>61.000000</td>\n",
       "    </tr>\n",
       "    <tr>\n",
       "      <th>75%</th>\n",
       "      <td>2254.750000</td>\n",
       "      <td>1.000000</td>\n",
       "      <td>116.788498</td>\n",
       "      <td>1990.000000</td>\n",
       "      <td>65.000000</td>\n",
       "      <td>4.000000</td>\n",
       "      <td>198.000000</td>\n",
       "      <td>202.750000</td>\n",
       "    </tr>\n",
       "    <tr>\n",
       "      <th>max</th>\n",
       "      <td>3007.000000</td>\n",
       "      <td>1.000000</td>\n",
       "      <td>231.392200</td>\n",
       "      <td>1993.000000</td>\n",
       "      <td>90.000000</td>\n",
       "      <td>34.000000</td>\n",
       "      <td>5004.000000</td>\n",
       "      <td>3275.000000</td>\n",
       "    </tr>\n",
       "  </tbody>\n",
       "</table>\n",
       "</div>"
      ],
      "text/plain": [
       "               pid        event         time     num_year      num_age  \\\n",
       "count  2982.000000  2982.000000  2982.000000  2982.000000  2982.000000   \n",
       "mean   1504.954728     0.426559    85.596387  1988.161301    55.058350   \n",
       "std     868.394910     0.494660    42.647312     3.035484    12.952988   \n",
       "min       1.000000     0.000000     1.182751  1978.000000    24.000000   \n",
       "25%     753.250000     0.000000    52.796715  1986.000000    45.000000   \n",
       "50%    1504.500000     0.000000    86.685829  1988.000000    54.000000   \n",
       "75%    2254.750000     1.000000   116.788498  1990.000000    65.000000   \n",
       "max    3007.000000     1.000000   231.392200  1993.000000    90.000000   \n",
       "\n",
       "         num_nodes  num_progesterone  num_estrogen  \n",
       "count  2982.000000       2982.000000   2982.000000  \n",
       "mean      2.712274        161.831321    166.589537  \n",
       "std       4.383844        291.311076    272.465486  \n",
       "min       0.000000          0.000000      0.000000  \n",
       "25%       0.000000          4.000000     11.000000  \n",
       "50%       1.000000         41.000000     61.000000  \n",
       "75%       4.000000        198.000000    202.750000  \n",
       "max      34.000000       5004.000000   3275.000000  "
      ]
     },
     "execution_count": 189,
     "metadata": {},
     "output_type": "execute_result"
    }
   ],
   "source": [
    "df.describe()"
   ]
  }
 ],
 "metadata": {
  "kernelspec": {
   "display_name": "survival",
   "language": "python",
   "name": "survival"
  },
  "language_info": {
   "codemirror_mode": {
    "name": "ipython",
    "version": 3
   },
   "file_extension": ".py",
   "mimetype": "text/x-python",
   "name": "python",
   "nbconvert_exporter": "python",
   "pygments_lexer": "ipython3",
   "version": "3.10.13"
  }
 },
 "nbformat": 4,
 "nbformat_minor": 5
}
